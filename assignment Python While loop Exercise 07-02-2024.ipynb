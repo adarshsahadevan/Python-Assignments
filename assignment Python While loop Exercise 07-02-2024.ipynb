{
 "cells": [
  {
   "cell_type": "markdown",
   "id": "75bb4dc0",
   "metadata": {},
   "source": [
    "# Python While loop Exercise"
   ]
  },
  {
   "cell_type": "markdown",
   "id": "e7e2f691",
   "metadata": {},
   "source": [
    "### 1. Write a program to display the first 7 multiples of 7.\n"
   ]
  },
  {
   "cell_type": "code",
   "execution_count": 9,
   "id": "50123562",
   "metadata": {},
   "outputs": [
    {
     "name": "stdout",
     "output_type": "stream",
     "text": [
      "7 x 1 = 7\n",
      "7 x 2 = 14\n",
      "7 x 3 = 21\n",
      "7 x 4 = 28\n",
      "7 x 5 = 35\n",
      "7 x 6 = 42\n",
      "7 x 7 = 49\n"
     ]
    }
   ],
   "source": [
    "n=7\n",
    "for i in range(1,8):\n",
    "    product=n*i\n",
    "    print(\"%d x %d = %d\" %(n,i,product))"
   ]
  },
  {
   "cell_type": "markdown",
   "id": "a2ff6eef",
   "metadata": {},
   "source": [
    "### 2. Find the sum of numbers in a list using while loop.\n",
    "\n"
   ]
  },
  {
   "cell_type": "code",
   "execution_count": 10,
   "id": "9a4a5eeb",
   "metadata": {},
   "outputs": [
    {
     "name": "stdout",
     "output_type": "stream",
     "text": [
      "71478\n"
     ]
    }
   ],
   "source": [
    "l=[1,2,3,5,4,6,9,8,255,7,55414,7521,7521,722]\n",
    "s=0\n",
    "n=len(l)\n",
    "i=0\n",
    "while i < n:\n",
    "    s=s+l[i]\n",
    "    i=i+1\n",
    "print(s)"
   ]
  },
  {
   "cell_type": "markdown",
   "id": "156f8755",
   "metadata": {},
   "source": [
    "### 3. Write a program to separate positive and negative number from a list.\n"
   ]
  },
  {
   "cell_type": "code",
   "execution_count": 6,
   "id": "e659a64c",
   "metadata": {},
   "outputs": [
    {
     "name": "stdout",
     "output_type": "stream",
     "text": [
      "[5, 6, 8, 7] are positive\n",
      "[-2, -5, -3] are negative\n"
     ]
    }
   ],
   "source": [
    "lis=[-2,-5,5,6,8,7,-3]\n",
    "n=len(lis)\n",
    "i=0\n",
    "pos=[]\n",
    "neg=[]\n",
    "while i < n:\n",
    "    if lis[i]>0:\n",
    "        pos.append(lis[i])\n",
    "           \n",
    "    else:\n",
    "        neg.append(lis[i])\n",
    "    i=i+1 \n",
    "           \n",
    "print(pos,\"are positive\")\n",
    "print(neg,\"are negative\") "
   ]
  },
  {
   "cell_type": "markdown",
   "id": "f156a7d9",
   "metadata": {},
   "source": [
    "### 4. Write a program that appends the square of each number to a new list.\n"
   ]
  },
  {
   "cell_type": "code",
   "execution_count": 1,
   "id": "d0654d20",
   "metadata": {},
   "outputs": [
    {
     "name": "stdout",
     "output_type": "stream",
     "text": [
      "new list is  [1, 4, 9, 16, 25, 36, 49]\n"
     ]
    }
   ],
   "source": [
    "x=[1,2,3,4,5,6,7]\n",
    "new_list=[]\n",
    "i=0\n",
    "while i<len(x):\n",
    "    sqr=x[i]*x[i]\n",
    "    new_list.append(sqr)\n",
    "    i=i+1  \n",
    "print(\"new list is \",new_list)    "
   ]
  },
  {
   "cell_type": "markdown",
   "id": "5c19d07a",
   "metadata": {},
   "source": [
    "### 5. Write a program in Python to reverse a word.\n",
    "\n"
   ]
  },
  {
   "cell_type": "code",
   "execution_count": 5,
   "id": "364bd175",
   "metadata": {},
   "outputs": [
    {
     "name": "stdout",
     "output_type": "stream",
     "text": [
      "enter a word:hello\n",
      "the reverse word is: olleh\n"
     ]
    }
   ],
   "source": [
    "w=input(\"enter a word:\")\n",
    "r_w=\"\"\n",
    "n=len(w)-1\n",
    "while n>=0:\n",
    "    r_w = r_w + w[n]\n",
    "    n=n-1\n",
    "print(\"the reverse word is:\",r_w)    "
   ]
  },
  {
   "cell_type": "markdown",
   "id": "e622101f",
   "metadata": {},
   "source": [
    "### 6. Write a program to filter even and odd number from a list.\n"
   ]
  },
  {
   "cell_type": "code",
   "execution_count": 8,
   "id": "5a422135",
   "metadata": {},
   "outputs": [
    {
     "name": "stdout",
     "output_type": "stream",
     "text": [
      "[2, 6, 8] are even\n",
      "[5, 7, 3] are odd\n"
     ]
    }
   ],
   "source": [
    "lis=[2,5,6,8,7,3]\n",
    "n=len(lis)\n",
    "i=0\n",
    "even=[]\n",
    "odd=[]\n",
    "while i < n:\n",
    "    if lis[i] % 2==0:\n",
    "        even.append(lis[i])\n",
    "           \n",
    "    else:\n",
    "        odd.append(lis[i])\n",
    "    i=i+1 \n",
    "           \n",
    "print(even,\"are even\")\n",
    "print(odd,\"are odd\") "
   ]
  },
  {
   "cell_type": "markdown",
   "id": "7d98ee17",
   "metadata": {},
   "source": [
    "### 7. Create a simple number guessing game where the computer generates a random number between 1 and 10 and the user has to guess it. Provide hints whether the guess is too high or too low. Keep asking until the user guesses correctly.\n"
   ]
  },
  {
   "cell_type": "code",
   "execution_count": null,
   "id": "fb7695fd",
   "metadata": {},
   "outputs": [
    {
     "name": "stdout",
     "output_type": "stream",
     "text": [
      "Enter the guess:7\n",
      "Guess higher!\n",
      "Enter the guess:9\n",
      "Guess higher!\n"
     ]
    }
   ],
   "source": [
    "import random\n",
    "\n",
    "number=random.randint(1,10)\n",
    "guess=0\n",
    "\n",
    "while guess !=number:\n",
    "    guess=int(input(\"Enter the guess:\"))\n",
    "    \n",
    "    if (guess<number):\n",
    "        print(\"Guess higher!\")\n",
    "    \n",
    "    elif (guess>number):\n",
    "        print(\"Guess lower!\")\n",
    "    \n",
    "    else:\n",
    "        print(\"You won!\")"
   ]
  },
  {
   "cell_type": "markdown",
   "id": "6949a809",
   "metadata": {},
   "source": [
    "### 8. Write a Python program to check if a given word is a palindrome using a while loop.\n"
   ]
  },
  {
   "cell_type": "code",
   "execution_count": 26,
   "id": "8ad1b254",
   "metadata": {},
   "outputs": [
    {
     "name": "stdout",
     "output_type": "stream",
     "text": [
      "Enter to check palindrome ; lEveL\n",
      "the word is a palindrome\n"
     ]
    }
   ],
   "source": [
    "x=input(\"Enter to check palindrome ; \")\n",
    "x=x.lower().replace(\" \",\"\").replace(\".\",\"\")\n",
    "y=0\n",
    "z=len(x)-1\n",
    "while y<z:\n",
    "    if x[y]==x[z]:\n",
    "        y=y+1\n",
    "        z=z-1\n",
    "    else:\n",
    "        print(\"the word is not a palindrome\")\n",
    "        break\n",
    "else:\n",
    "    print(\"the word is a palindrome\")"
   ]
  },
  {
   "cell_type": "markdown",
   "id": "8f609788",
   "metadata": {},
   "source": [
    "### 9. Write a Python program to print the multiplication table of a given number using a while loop."
   ]
  },
  {
   "cell_type": "code",
   "execution_count": 24,
   "id": "7b01d7b6",
   "metadata": {},
   "outputs": [
    {
     "name": "stdout",
     "output_type": "stream",
     "text": [
      "enter a number to check prime or not:8\n",
      "1 x 8 = 8\n",
      "2 x 8 = 16\n",
      "3 x 8 = 24\n",
      "4 x 8 = 32\n",
      "5 x 8 = 40\n",
      "6 x 8 = 48\n",
      "7 x 8 = 56\n",
      "8 x 8 = 64\n",
      "9 x 8 = 72\n",
      "10 x 8 = 80\n"
     ]
    }
   ],
   "source": [
    "num=int(input(\"enter a number to check prime or not:\"))\n",
    "\n",
    "n=1\n",
    "while n <= 10:\n",
    "        print(n,\"x\",num,\"=\",n*num)\n",
    "        n=n+1"
   ]
  },
  {
   "cell_type": "markdown",
   "id": "63dbab60",
   "metadata": {},
   "source": [
    "### 10. Write a Python program that checks if a given number is prime or not using a while loop"
   ]
  },
  {
   "cell_type": "code",
   "execution_count": 19,
   "id": "442a05e4",
   "metadata": {},
   "outputs": [
    {
     "name": "stdout",
     "output_type": "stream",
     "text": [
      "enter a number to check prime or not:5\n",
      "5 is a prime\n"
     ]
    }
   ],
   "source": [
    "n=int(input(\"enter a number to check prime or not:\"))\n",
    "i=2\n",
    "while i*i<=n:\n",
    "    if n % i==0:\n",
    "        print(n,\"is not prime\")\n",
    "        break\n",
    "    i=i+1\n",
    "else:\n",
    "    print(n,\"is a prime\")\n",
    "    "
   ]
  },
  {
   "cell_type": "markdown",
   "id": "8d3fb9b5",
   "metadata": {},
   "source": [
    "### 11. Write a Python program that calculates the result of raising a given number to a specified power using a while loop.\n"
   ]
  },
  {
   "cell_type": "code",
   "execution_count": 18,
   "id": "feb89b06",
   "metadata": {},
   "outputs": [
    {
     "name": "stdout",
     "output_type": "stream",
     "text": [
      "enter the base:2\n",
      "enter the exponent:3\n",
      "the result is: 8.0\n"
     ]
    }
   ],
   "source": [
    "b=float(input(\"enter the base:\"))\n",
    "e=int(input(\"enter the exponent:\"))\n",
    "\n",
    "r=1\n",
    "while e>0:\n",
    "    r=r*b\n",
    "    e=e-1\n",
    "print(\"the result is:\",r)    "
   ]
  },
  {
   "cell_type": "markdown",
   "id": "5570d5dc",
   "metadata": {},
   "source": [
    "### 12. Write a Python program to check if a given number is an Armstrong number using a while loop.\n"
   ]
  },
  {
   "cell_type": "code",
   "execution_count": 17,
   "id": "038db225",
   "metadata": {},
   "outputs": [
    {
     "name": "stdout",
     "output_type": "stream",
     "text": [
      "enter a number to armstrong 153\n",
      "153 is an armstrong\n"
     ]
    }
   ],
   "source": [
    "n=(int(input(\"enter a number to armstrong \")))\n",
    "order=len(str(n))\n",
    "sum=0\n",
    "copy_x=n\n",
    "while (n>0):\n",
    "    d= n % 10\n",
    "    sum += d ** order\n",
    "    n = n//10\n",
    "if (sum==copy_x):\n",
    "    print(copy_x,\"is an armstrong\")\n",
    "else:\n",
    "    print(copy_x,\"is not an armstrong\")"
   ]
  },
  {
   "cell_type": "markdown",
   "id": "87c49bcd",
   "metadata": {},
   "source": [
    "### 13. Write a Python program to find the greatest common divisor (GCD) of two numbers using a while loop.\n"
   ]
  },
  {
   "cell_type": "code",
   "execution_count": 7,
   "id": "032149ac",
   "metadata": {},
   "outputs": [
    {
     "name": "stdout",
     "output_type": "stream",
     "text": [
      "enter 1st number:24\n",
      "enter 2nd number:36\n",
      "GCD of the numbers is: 12\n"
     ]
    }
   ],
   "source": [
    "a=int(input(\"enter 1st number:\"))\n",
    "b=int(input(\"enter 2nd number:\"))\n",
    "\n",
    "i=1\n",
    "while (i<a and i<b):\n",
    "    if(a % i==0 and b % i==0):\n",
    "        gcd=i\n",
    "    i=i+1    \n",
    "print(\"GCD of the numbers is:\",gcd)\n"
   ]
  },
  {
   "cell_type": "markdown",
   "id": "c3fceb1e",
   "metadata": {},
   "source": [
    "### 14. Write a Python program to find the largest element in a list using a while loop."
   ]
  },
  {
   "cell_type": "code",
   "execution_count": 8,
   "id": "54d9ce65",
   "metadata": {},
   "outputs": [
    {
     "name": "stdout",
     "output_type": "stream",
     "text": [
      "the largest element is: 8\n"
     ]
    }
   ],
   "source": [
    "lis=[1,8,6,5,2,3]\n",
    "larg=lis[0]\n",
    "i=0\n",
    "while i<len(lis):\n",
    "    if lis[i]>larg:\n",
    "        larg=lis[i]\n",
    "    i=i+1    \n",
    "print(\"the largest element is:\",larg)    "
   ]
  },
  {
   "cell_type": "markdown",
   "id": "2e8a4355",
   "metadata": {},
   "source": [
    "### 15. Write a Python program to print a pattern of asterisks using a while loop. For example, if the user enters 5, it should print:\n",
    "\n",
    "### *\n",
    "\n",
    "\n",
    "### **\n",
    "\n",
    "\n",
    "### ***\n"
   ]
  },
  {
   "cell_type": "code",
   "execution_count": 6,
   "id": "8e5a9848",
   "metadata": {},
   "outputs": [
    {
     "name": "stdout",
     "output_type": "stream",
     "text": [
      "enter number of row: 7\n",
      "* \n",
      "* * \n",
      "* * * \n",
      "* * * * \n",
      "* * * * * \n",
      "* * * * * * \n",
      "* * * * * * * \n"
     ]
    }
   ],
   "source": [
    "row=int(input(\"enter number of row: \"))\n",
    "for i in range (0,row):\n",
    "    for j in range(0,i+1):\n",
    "        print(\"*\",end=\" \")\n",
    "    print( )    "
   ]
  },
  {
   "cell_type": "markdown",
   "id": "f04a9e95",
   "metadata": {},
   "source": [
    "### 16. Write a Python program to count the number of digits in a given integer using a while loop."
   ]
  },
  {
   "cell_type": "code",
   "execution_count": 3,
   "id": "53143b7d",
   "metadata": {},
   "outputs": [
    {
     "name": "stdout",
     "output_type": "stream",
     "text": [
      "enter an integer:5642058364179\n",
      "The number of digits is: 13\n"
     ]
    }
   ],
   "source": [
    "n=int(input(\"enter an integer:\"))\n",
    "d=0\n",
    "while n!=0:\n",
    "    n=n//10\n",
    "    d=d+1\n",
    "print(\"The number of digits is:\",d)    "
   ]
  },
  {
   "cell_type": "code",
   "execution_count": null,
   "id": "ecabef6f",
   "metadata": {},
   "outputs": [],
   "source": []
  }
 ],
 "metadata": {
  "kernelspec": {
   "display_name": "Python 3 (ipykernel)",
   "language": "python",
   "name": "python3"
  },
  "language_info": {
   "codemirror_mode": {
    "name": "ipython",
    "version": 3
   },
   "file_extension": ".py",
   "mimetype": "text/x-python",
   "name": "python",
   "nbconvert_exporter": "python",
   "pygments_lexer": "ipython3",
   "version": "3.11.5"
  }
 },
 "nbformat": 4,
 "nbformat_minor": 5
}

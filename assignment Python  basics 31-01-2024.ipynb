{
 "cells": [
  {
   "cell_type": "markdown",
   "id": "9c43427d",
   "metadata": {},
   "source": [
    "# Python Basics Exercises"
   ]
  },
  {
   "cell_type": "markdown",
   "id": "755e764a",
   "metadata": {},
   "source": [
    "### 1) Write a program that prints\"Hello,How are You?\" on the console."
   ]
  },
  {
   "cell_type": "code",
   "execution_count": 2,
   "id": "7ed2d82e",
   "metadata": {},
   "outputs": [
    {
     "name": "stdout",
     "output_type": "stream",
     "text": [
      "Hello,How are YOu\n"
     ]
    }
   ],
   "source": [
    "print(\"Hello,How are YOu\")"
   ]
  },
  {
   "cell_type": "markdown",
   "id": "6170a6c6",
   "metadata": {},
   "source": [
    "### 2) Write a program that take user's name and then prints a greeting message with their name."
   ]
  },
  {
   "cell_type": "code",
   "execution_count": 7,
   "id": "cfcfa25e",
   "metadata": {},
   "outputs": [
    {
     "name": "stdout",
     "output_type": "stream",
     "text": [
      "User's Name; John\n",
      "Hello John , Hope you are doing well !\n"
     ]
    }
   ],
   "source": [
    "x=input(\"User's Name; \")\n",
    "print(\"Hello\",x,\", Hope you are doing well !\")      "
   ]
  },
  {
   "cell_type": "markdown",
   "id": "f6268747",
   "metadata": {},
   "source": [
    "### 3) Write a program that takes two numbers as input and prints their sum."
   ]
  },
  {
   "cell_type": "code",
   "execution_count": 19,
   "id": "387cabd6",
   "metadata": {},
   "outputs": [
    {
     "name": "stdout",
     "output_type": "stream",
     "text": [
      "Enter First number ; 12\n",
      "Enter Second number; 8\n",
      "Sum =  20\n"
     ]
    }
   ],
   "source": [
    "x=int(input(\"Enter First number ; \"))\n",
    "y=int(input(\"Enter Second number; \"))\n",
    "print(\"Sum = \",x+y)"
   ]
  },
  {
   "cell_type": "markdown",
   "id": "0a0cc4ec",
   "metadata": {},
   "source": [
    "### 4) Write a program that takes a string as input and prints its length."
   ]
  },
  {
   "cell_type": "code",
   "execution_count": 24,
   "id": "a5948b03",
   "metadata": {},
   "outputs": [
    {
     "name": "stdout",
     "output_type": "stream",
     "text": [
      "Enter a string to print its length: Assignments\n",
      "11\n"
     ]
    }
   ],
   "source": [
    "x=input(\"Enter a string to print its length: \")\n",
    "print(len(x))"
   ]
  },
  {
   "cell_type": "markdown",
   "id": "d8668605",
   "metadata": {},
   "source": [
    "### 5) Write a program that takes a sentence and then prints the number of words in that sentence."
   ]
  },
  {
   "cell_type": "code",
   "execution_count": 34,
   "id": "e282d3b5",
   "metadata": {},
   "outputs": [
    {
     "name": "stdout",
     "output_type": "stream",
     "text": [
      "Enter a sentence to print number of words in it: Hello my friend how is your studies going\n",
      "8\n"
     ]
    }
   ],
   "source": [
    "x=(input(\"Enter a sentence to print number of words in it: \").split())\n",
    "print(len(x))"
   ]
  },
  {
   "cell_type": "markdown",
   "id": "d46cd129",
   "metadata": {},
   "source": [
    "### 6) write a program that takes a string as input and counts the number of uppercase letters in string."
   ]
  },
  {
   "cell_type": "code",
   "execution_count": 35,
   "id": "0661f2c2",
   "metadata": {},
   "outputs": [
    {
     "name": "stdout",
     "output_type": "stream",
     "text": [
      "Enter some string to print number of uppercase letters in it: I nUmBeR Of uPPerCase Is AS shoWN BeLoW\n",
      "16\n"
     ]
    }
   ],
   "source": [
    "x=input(\"Enter some string to print number of uppercase letters in it: \")\n",
    "upper_count=0\n",
    "for letter in x:\n",
    "    if letter.isupper():\n",
    "        upper_count +=1\n",
    "print(upper_count)        "
   ]
  },
  {
   "cell_type": "markdown",
   "id": "b4590cdc",
   "metadata": {},
   "source": [
    "### 7) write a program that takes a sentence and then converts all the characters to uppercase."
   ]
  },
  {
   "cell_type": "code",
   "execution_count": 38,
   "id": "cdedc477",
   "metadata": {},
   "outputs": [
    {
     "name": "stdout",
     "output_type": "stream",
     "text": [
      "Enter a Sentence : convert all the characters to uppercase\n",
      "CONVERT ALL THE CHARACTERS TO UPPERCASE\n"
     ]
    }
   ],
   "source": [
    "x=input(\"Enter a Sentence : \")\n",
    "print(x.upper())"
   ]
  },
  {
   "cell_type": "markdown",
   "id": "732c870b",
   "metadata": {},
   "source": [
    "### 8) write a program that takes a string as input and replaces all occurrences of the letter 'a' with the letter 'e'"
   ]
  },
  {
   "cell_type": "code",
   "execution_count": 39,
   "id": "dfc32456",
   "metadata": {},
   "outputs": [
    {
     "name": "stdout",
     "output_type": "stream",
     "text": [
      "Enter : aaa\n",
      "eee\n"
     ]
    }
   ],
   "source": [
    "x=input(\"Enter : \")\n",
    "print(x.replace(\"a\",\"e\"))"
   ]
  },
  {
   "cell_type": "markdown",
   "id": "761ab6b0",
   "metadata": {},
   "source": [
    "### 9) create a program that checks if a given string is a palindrome."
   ]
  },
  {
   "cell_type": "code",
   "execution_count": 1,
   "id": "4e5a4b9d",
   "metadata": {},
   "outputs": [
    {
     "name": "stdout",
     "output_type": "stream",
     "text": [
      "Enter to check palindrome ; 1221\n",
      "True\n"
     ]
    }
   ],
   "source": [
    "x=input(\"Enter to check palindrome ; \")\n",
    "y=x[::-1]\n",
    "print(x==y) "
   ]
  },
  {
   "cell_type": "markdown",
   "id": "771dcf9d",
   "metadata": {},
   "source": [
    "### 10) create a program that checks if a substring is present in a given string."
   ]
  },
  {
   "cell_type": "code",
   "execution_count": 4,
   "id": "0a96947e",
   "metadata": {},
   "outputs": [
    {
     "name": "stdout",
     "output_type": "stream",
     "text": [
      "True\n",
      "False\n"
     ]
    }
   ],
   "source": [
    "my_string=\"check if substring is present in given string\"\n",
    "sub_string=\"present\"\n",
    "sub_string2=\"hello\"\n",
    "print(sub_string in my_string)\n",
    "print(sub_string2 in my_string)"
   ]
  },
  {
   "cell_type": "markdown",
   "id": "05232fb3",
   "metadata": {},
   "source": [
    "### 11) write a program that reverses the order of words in a given sentence."
   ]
  },
  {
   "cell_type": "code",
   "execution_count": 10,
   "id": "1859f373",
   "metadata": {},
   "outputs": [
    {
     "name": "stdout",
     "output_type": "stream",
     "text": [
      "['sentence', 'a', 'in', 'words', 'of', 'order', 'the', 'reverse']\n"
     ]
    }
   ],
   "source": [
    "given_string=\"reverse the order of words in a sentence\"\n",
    "y=given_string.split()\n",
    "x=y[::-1]\n",
    "print(x)"
   ]
  },
  {
   "cell_type": "markdown",
   "id": "fddbf8a3",
   "metadata": {},
   "source": [
    "### 12)  write a program that finds the longest word in a given sentence."
   ]
  },
  {
   "cell_type": "code",
   "execution_count": 11,
   "id": "13cf71ef",
   "metadata": {},
   "outputs": [
    {
     "name": "stdout",
     "output_type": "stream",
     "text": [
      "sentence\n"
     ]
    }
   ],
   "source": [
    "given_sentence=\"longest word in this sentence\"\n",
    "x=given_sentence.split()\n",
    "y=max(x,key=len)\n",
    "print(y)"
   ]
  },
  {
   "cell_type": "code",
   "execution_count": null,
   "id": "0e7b2aea",
   "metadata": {},
   "outputs": [],
   "source": []
  }
 ],
 "metadata": {
  "kernelspec": {
   "display_name": "Python 3 (ipykernel)",
   "language": "python",
   "name": "python3"
  },
  "language_info": {
   "codemirror_mode": {
    "name": "ipython",
    "version": 3
   },
   "file_extension": ".py",
   "mimetype": "text/x-python",
   "name": "python",
   "nbconvert_exporter": "python",
   "pygments_lexer": "ipython3",
   "version": "3.11.5"
  }
 },
 "nbformat": 4,
 "nbformat_minor": 5
}

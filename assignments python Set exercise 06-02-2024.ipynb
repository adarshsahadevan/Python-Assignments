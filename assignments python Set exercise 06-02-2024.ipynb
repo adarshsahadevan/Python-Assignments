{
 "cells": [
  {
   "cell_type": "markdown",
   "id": "6281fb5f",
   "metadata": {},
   "source": [
    "# Python Set Exercise\n"
   ]
  },
  {
   "cell_type": "markdown",
   "id": "5c357fdf",
   "metadata": {},
   "source": [
    "### 1. Write a Python program to check if two sets have any common elements.\n",
    "\n"
   ]
  },
  {
   "cell_type": "code",
   "execution_count": 17,
   "id": "5c1cc50d",
   "metadata": {},
   "outputs": [
    {
     "name": "stdout",
     "output_type": "stream",
     "text": [
      "set1; {1, 2, 3, 4, 5, 6}\n",
      "set2; {98, 5, 6, 54, 55, 87}\n",
      "set of common elements in set1 & set2 is ; {5, 6}\n"
     ]
    }
   ],
   "source": [
    "a={1,2,3,4,5,6}\n",
    "print(\"set1;\",a)\n",
    "b={98,87,54,5,55,6}\n",
    "print(\"set2;\",b)\n",
    "common_elements = a.intersection(b)\n",
    "print(\"set of common elements in set1 & set2 is ;\",common_elements)"
   ]
  },
  {
   "cell_type": "markdown",
   "id": "6110d9ff",
   "metadata": {},
   "source": [
    "### 2. Write a Python program to find the difference between two sets.\n",
    "\n"
   ]
  },
  {
   "cell_type": "code",
   "execution_count": 22,
   "id": "d15644e7",
   "metadata": {},
   "outputs": [
    {
     "name": "stdout",
     "output_type": "stream",
     "text": [
      "set1; {1, 2, 3, 4, 5, 6}\n",
      "set2; {98, 5, 6, 54, 55, 87}\n",
      "set of difference in set1 & set2 is ; {1, 2, 3, 4} & {98, 87, 54, 55}\n"
     ]
    }
   ],
   "source": [
    "a={1,2,3,4,5,6}\n",
    "print(\"set1;\",a)\n",
    "b={98,87,54,5,55,6}\n",
    "print(\"set2;\",b)\n",
    "d=a.difference(b)\n",
    "g=b.difference(a)\n",
    "print(\"set of difference in set1 & set2 is ;\",d,\"&\",g)"
   ]
  },
  {
   "cell_type": "markdown",
   "id": "66d7ae8a",
   "metadata": {},
   "source": [
    "### 3. Write a Python program to find the symmetric difference between two sets.\n",
    "\n"
   ]
  },
  {
   "cell_type": "code",
   "execution_count": 21,
   "id": "ee8d2511",
   "metadata": {},
   "outputs": [
    {
     "name": "stdout",
     "output_type": "stream",
     "text": [
      "set1; {1, 2, 3, 4, 5, 6}\n",
      "set2; {98, 5, 6, 54, 55, 87}\n",
      "set of symmetric difference in set1 & set2 is ; {1, 2, 3, 4, 87, 98, 54, 55}\n"
     ]
    }
   ],
   "source": [
    "a={1,2,3,4,5,6}\n",
    "print(\"set1;\",a)\n",
    "b={98,87,54,5,55,6}\n",
    "print(\"set2;\",b)\n",
    "d=a.symmetric_difference(b)\n",
    "print(\"set of symmetric difference in set1 & set2 is ;\",d)"
   ]
  },
  {
   "cell_type": "markdown",
   "id": "3fc5adb5",
   "metadata": {},
   "source": [
    "### 4. Write a Python program to create a set from a given list and remove the duplicates.\n"
   ]
  },
  {
   "cell_type": "code",
   "execution_count": 13,
   "id": "2ec92bba",
   "metadata": {},
   "outputs": [
    {
     "name": "stdout",
     "output_type": "stream",
     "text": [
      "list is : [1, 2, 3, 2, 2, 3, 3]\n",
      "set from list after removing duplicates is: {1, 2, 3}\n"
     ]
    }
   ],
   "source": [
    "let_list=[1,2,3,2,2,3,3]\n",
    "print(\"list is :\",let_list)\n",
    "\n",
    "x=set(let_list)\n",
    "print(\"set from list after removing duplicates is:\",x)"
   ]
  },
  {
   "cell_type": "markdown",
   "id": "34b4c7f9",
   "metadata": {},
   "source": [
    "### 5. Write a Python program to create a new set with all in the elements from two sets, but exclude the common ones.\n"
   ]
  },
  {
   "cell_type": "code",
   "execution_count": 16,
   "id": "0de09526",
   "metadata": {},
   "outputs": [
    {
     "name": "stdout",
     "output_type": "stream",
     "text": [
      "set1: {1, 2, 3, 4}\n",
      "set2: {2, 4, 5, 6}\n",
      "new set excluded the common: {1, 3, 5, 6}\n"
     ]
    }
   ],
   "source": [
    "set1={1,2,3,4}\n",
    "print(\"set1:\",set1)\n",
    "set2={5,6,2,4}\n",
    "print(\"set2:\",set2)\n",
    "x=set1.symmetric_difference(set2)\n",
    "print(\"new set excluded the common:\",x)"
   ]
  },
  {
   "cell_type": "markdown",
   "id": "0f765cc5",
   "metadata": {},
   "source": [
    "### 6. Write a Python program to check if a set is a subset of another set.\n"
   ]
  },
  {
   "cell_type": "code",
   "execution_count": 2,
   "id": "ce2cbc2d",
   "metadata": {},
   "outputs": [
    {
     "name": "stdout",
     "output_type": "stream",
     "text": [
      "set2 is subset of set1: True\n"
     ]
    }
   ],
   "source": [
    "set1={1,2,3,4,5}\n",
    "set2={3,4,5} \n",
    "x=set2.issubset(set1)\n",
    "print(\"set2 is subset of set1:\",x) "
   ]
  },
  {
   "cell_type": "markdown",
   "id": "c4513740",
   "metadata": {},
   "source": [
    "### 7. Write a Python program to find the maximum and minimum values in a set.\n",
    "\n"
   ]
  },
  {
   "cell_type": "code",
   "execution_count": 23,
   "id": "70978bc1",
   "metadata": {},
   "outputs": [
    {
     "name": "stdout",
     "output_type": "stream",
     "text": [
      "set1: {1, 2, 3, 4, 5}\n",
      "maximum of set1: 5\n",
      "minimum of set1: 1\n"
     ]
    }
   ],
   "source": [
    "set1={1,2,3,4,5}\n",
    "print(\"set1:\",set1)\n",
    "x=max(set1)\n",
    "y=min(set1)\n",
    "print(\"maximum of set1:\",x)\n",
    "print(\"minimum of set1:\",y)"
   ]
  },
  {
   "cell_type": "markdown",
   "id": "85576cda",
   "metadata": {},
   "source": [
    "### 8. Write a Python program to remove all the elements from a set.\n",
    "\n"
   ]
  },
  {
   "cell_type": "code",
   "execution_count": 3,
   "id": "0898dace",
   "metadata": {},
   "outputs": [
    {
     "name": "stdout",
     "output_type": "stream",
     "text": [
      "set is:  {40, 1, 2, 3}\n",
      "cleared set: set()\n"
     ]
    }
   ],
   "source": [
    "set1={1,2,3,40}\n",
    "print(\"set is: \",set1)\n",
    "set1.clear()\n",
    "print(\"cleared set:\",set1)"
   ]
  },
  {
   "cell_type": "markdown",
   "id": "2917c3af",
   "metadata": {},
   "source": [
    "### 9. Write a Python program to update a set with the union of itself and another set.\n",
    "\n"
   ]
  },
  {
   "cell_type": "code",
   "execution_count": 12,
   "id": "526c302f",
   "metadata": {},
   "outputs": [
    {
     "name": "stdout",
     "output_type": "stream",
     "text": [
      "set1: {1, 2, 3, 4, 5}\n",
      "set2: {1, 4, 5, 6, 8}\n",
      "union of set1 and set2 :  {1, 2, 3, 4, 5, 6, 8}\n"
     ]
    }
   ],
   "source": [
    "set1={1,2,3,4,5}\n",
    "print(\"set1:\",set1)\n",
    "set2={1,5,6,4,8}\n",
    "print(\"set2:\",set2)\n",
    "set1.update(set2)\n",
    "print(\"union of set1 and set2 : \",set1)"
   ]
  },
  {
   "cell_type": "markdown",
   "id": "04de3ce3",
   "metadata": {},
   "source": [
    "### 10. Write a Python program to find the sum of all the elements in a set."
   ]
  },
  {
   "cell_type": "code",
   "execution_count": 15,
   "id": "040fc98e",
   "metadata": {},
   "outputs": [
    {
     "name": "stdout",
     "output_type": "stream",
     "text": [
      "set1: {1, 2, 3, 4, 5}\n",
      "set2: {1, 4, 5, 6, 8}\n",
      "set of sum of elements in set1 and set2: {2, 6, 8, 10, 13}\n"
     ]
    }
   ],
   "source": [
    "set1={1,2,3,4,5}\n",
    "print(\"set1:\",set1)\n",
    "set2={1,5,6,4,8}\n",
    "print(\"set2:\",set2)\n",
    "x={i+j for i,j in zip(set1,set2)}\n",
    "print(\"set of sum of elements in set1 and set2:\",x)"
   ]
  },
  {
   "cell_type": "code",
   "execution_count": null,
   "id": "bf7916ce",
   "metadata": {},
   "outputs": [],
   "source": []
  }
 ],
 "metadata": {
  "kernelspec": {
   "display_name": "Python 3 (ipykernel)",
   "language": "python",
   "name": "python3"
  },
  "language_info": {
   "codemirror_mode": {
    "name": "ipython",
    "version": 3
   },
   "file_extension": ".py",
   "mimetype": "text/x-python",
   "name": "python",
   "nbconvert_exporter": "python",
   "pygments_lexer": "ipython3",
   "version": "3.11.5"
  }
 },
 "nbformat": 4,
 "nbformat_minor": 5
}

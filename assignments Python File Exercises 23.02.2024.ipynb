{
 "cells": [
  {
   "cell_type": "markdown",
   "id": "692ebaca",
   "metadata": {},
   "source": [
    "# Python File Exercises"
   ]
  },
  {
   "cell_type": "markdown",
   "id": "f4ddd538",
   "metadata": {},
   "source": [
    "#### 1. Write a program that reads a text file and counts the number of lines in the file."
   ]
  },
  {
   "cell_type": "code",
   "execution_count": 1,
   "id": "8b7d4bb0",
   "metadata": {},
   "outputs": [
    {
     "name": "stdout",
     "output_type": "stream",
     "text": [
      "Total number of lines is: 3\n"
     ]
    }
   ],
   "source": [
    "import os\n",
    "\n",
    "file_path = r\"C:\\\\Users\\\\ACER\\\\Softroniics\\\\Python\\\\Python Class\\\\sample.txt\"\n",
    "\n",
    "with open(file_path, \"r\") as text_file:\n",
    "    lines = len(text_file.readlines())\n",
    "    print(f\"Total number of lines is: {lines}\")"
   ]
  },
  {
   "cell_type": "markdown",
   "id": "bb2beabb",
   "metadata": {},
   "source": [
    "#### 2. Write a program that reads a text file and prints the first n lines of the file, where n is a user-specified integer."
   ]
  },
  {
   "cell_type": "code",
   "execution_count": 5,
   "id": "da31db5d",
   "metadata": {},
   "outputs": [
    {
     "name": "stdout",
     "output_type": "stream",
     "text": [
      "Enter the number of lines to read: 2\n",
      "Line 1: this is the first line\n",
      "Line 2: hello\n"
     ]
    }
   ],
   "source": [
    "def first_n_lines(file_path, n):\n",
    "    with open(file_path, \"r\") as text_file:\n",
    "        for line_number, line in enumerate(text_file, start=1):\n",
    "            if line_number > n:\n",
    "                break\n",
    "            print(f\"Line {line_number}: {line.strip()}\")\n",
    "\n",
    "\n",
    "file_path = r\"C:\\\\Users\\\\ACER\\\\Softroniics\\\\Python\\\\Python Class\\\\sample.txt\"\n",
    "user_input = input(\"Enter the number of lines to read: \")\n",
    "try:\n",
    "    n = int(user_input)\n",
    "    first_n_lines(file_path, n)\n",
    "except ValueError:\n",
    "    print(\"Invalid input. Please enter a valid integer.\")"
   ]
  },
  {
   "cell_type": "markdown",
   "id": "0c8c85c9",
   "metadata": {},
   "source": [
    "#### 3. Write a program that reads a text file and prints the last n lines of the file, where n is a user-specified integer.\n",
    "\n"
   ]
  },
  {
   "cell_type": "code",
   "execution_count": 2,
   "id": "5a25dad2",
   "metadata": {},
   "outputs": [
    {
     "name": "stdout",
     "output_type": "stream",
     "text": [
      "Enter the number of lines to read: 2\n",
      "white space\n",
      "nothing\n"
     ]
    }
   ],
   "source": [
    "def read_last_n_lines(file_path, n):\n",
    "    with open(file_path, \"r\") as text_file:\n",
    "        lines = text_file.readlines()\n",
    "        last_n_lines = lines[-n:]\n",
    "        for line in last_n_lines:\n",
    "            print(line.strip())\n",
    "    \n",
    "file_path = r\"C:\\\\Users\\\\ACER\\\\Softroniics\\\\Python\\\\Python Class\\\\sample.txt\"\n",
    "user_input = input(\"Enter the number of lines to read: \")\n",
    "try:\n",
    "    n = int(user_input)\n",
    "    read_last_n_lines(file_path, n)\n",
    "except ValueError:\n",
    "    print(\"Invalid input. Please enter a valid integer.\")"
   ]
  },
  {
   "cell_type": "markdown",
   "id": "6a35d577",
   "metadata": {},
   "source": [
    "#### 4. Write a program that reads a text file and removes all blank lines from the file.\n",
    "\n"
   ]
  },
  {
   "cell_type": "code",
   "execution_count": 17,
   "id": "74383024",
   "metadata": {},
   "outputs": [
    {
     "name": "stdout",
     "output_type": "stream",
     "text": [
      "new text file:  hi...\n",
      "second line second,\n",
      "white space:\n",
      "\n"
     ]
    }
   ],
   "source": [
    "file_name='input.txt'\n",
    "f=open(file_name,'w')\n",
    "f.write(\"     \\n\")\n",
    "f.write(\"hi...\\n\")\n",
    "f.write(\"second line second,\\n\")\n",
    "f.write(\"     \\n\")\n",
    "f.write(\"white space:\\n\")\n",
    "f.close()\n",
    "\n",
    "with open ('input.txt','r') as r ,open('output.txt','w') as x:  # here output.txt file will create by program . When you run the code snippet to remove blank lines from the input file, it will create or overwrite the “output.txt” file with the modified content. \n",
    "    for line in r:\n",
    "        if line.strip():\n",
    "            x.write(line)\n",
    "\n",
    "with open ('output.txt','r') as f:\n",
    "    print(\"new text file: \",f.read())"
   ]
  },
  {
   "cell_type": "markdown",
   "id": "10bcb06a",
   "metadata": {},
   "source": [
    "#### 5. Write a program that reads a text file and removes all lines that contain a specified string.\n",
    "\n"
   ]
  },
  {
   "cell_type": "code",
   "execution_count": 18,
   "id": "9ff66582",
   "metadata": {},
   "outputs": [
    {
     "name": "stdout",
     "output_type": "stream",
     "text": [
      "new text after removing specified string :       \n",
      "hi...\n",
      "second line second,\n",
      "     \n",
      "\n"
     ]
    }
   ],
   "source": [
    "\n",
    "string_to_remove = \"white\"\n",
    "\n",
    "with open('input.txt','r') as fh,open('output.txt','w') as fh1:\n",
    "    for line in fh:\n",
    "        if string_to_remove not in line:\n",
    "            fh1.write(line)\n",
    "with open ('output.txt','r') as g:\n",
    "    print(\"new text after removing specified string : \",g.read())"
   ]
  },
  {
   "cell_type": "markdown",
   "id": "2466272e",
   "metadata": {},
   "source": [
    "#### 6. Write a program that reads a text file and removes all punctuation from the text.\n",
    "\n"
   ]
  },
  {
   "cell_type": "code",
   "execution_count": 19,
   "id": "16e50ac3",
   "metadata": {},
   "outputs": [
    {
     "name": "stdout",
     "output_type": "stream",
     "text": [
      "     \n",
      "hi\n",
      "second line second\n",
      "     \n",
      "white space\n",
      "\n"
     ]
    }
   ],
   "source": [
    "import string\n",
    "\n",
    "remove=dict.fromkeys(map(ord,string.punctuation))\n",
    "\n",
    "with open('input.txt','r') as k:\n",
    "    lines=k.read().translate(remove)\n",
    "\n",
    "print(lines)    "
   ]
  },
  {
   "cell_type": "markdown",
   "id": "b79b3b67",
   "metadata": {},
   "source": [
    "#### 7. Write a program that reads a text file and capitalizes the first letter of each word.\n",
    "\n"
   ]
  },
  {
   "cell_type": "code",
   "execution_count": 20,
   "id": "70a093e6",
   "metadata": {},
   "outputs": [
    {
     "name": "stdout",
     "output_type": "stream",
     "text": [
      "     \n",
      "\n",
      "Hi...\n",
      "\n",
      "Second Line Second,\n",
      "\n",
      "     \n",
      "\n",
      "White Space:\n",
      "\n"
     ]
    }
   ],
   "source": [
    "with open ('input.txt','r') as file:\n",
    "    for line in file:\n",
    "        output=line.title()\n",
    "        print(output)"
   ]
  },
  {
   "cell_type": "markdown",
   "id": "38668d8d",
   "metadata": {},
   "source": [
    "#### 8. Write a program that reads a text file and converts all the text to uppercase.\n",
    "\n"
   ]
  },
  {
   "cell_type": "code",
   "execution_count": 21,
   "id": "38925432",
   "metadata": {},
   "outputs": [
    {
     "name": "stdout",
     "output_type": "stream",
     "text": [
      "     \n",
      "\n",
      "HI...\n",
      "\n",
      "SECOND LINE SECOND,\n",
      "\n",
      "     \n",
      "\n",
      "WHITE SPACE:\n",
      "\n"
     ]
    }
   ],
   "source": [
    "with open ('input.txt','r') as file:\n",
    "    for line in file:\n",
    "        output=line.upper()\n",
    "        print(output)"
   ]
  },
  {
   "cell_type": "markdown",
   "id": "ae90385a",
   "metadata": {},
   "source": [
    "#### 9. Write a program that reads a text file and converts all the text to lowercase.\n",
    "\n"
   ]
  },
  {
   "cell_type": "code",
   "execution_count": 22,
   "id": "d5c1f4dd",
   "metadata": {},
   "outputs": [
    {
     "name": "stdout",
     "output_type": "stream",
     "text": [
      "     \n",
      "\n",
      "hi...\n",
      "\n",
      "second line second,\n",
      "\n",
      "     \n",
      "\n",
      "white space:\n",
      "\n"
     ]
    }
   ],
   "source": [
    "with open ('input.txt','r') as file:\n",
    "    for line in file:\n",
    "        output=line.lower()\n",
    "        print(output)"
   ]
  },
  {
   "cell_type": "markdown",
   "id": "decbf7ab",
   "metadata": {},
   "source": [
    "#### 10. Write a program that reads a text file and replaces all occurrences of one word with another word.\n",
    "\n"
   ]
  },
  {
   "cell_type": "code",
   "execution_count": 23,
   "id": "9578c93a",
   "metadata": {},
   "outputs": [
    {
     "name": "stdout",
     "output_type": "stream",
     "text": [
      "     \n",
      "hello..\n",
      "second line second,\n",
      "     \n",
      "white space:\n",
      "\n"
     ]
    }
   ],
   "source": [
    "replace_word = \"hello..\"\n",
    "old_word=\"hi...\"\n",
    "\n",
    "with open(\"input.txt\",\"r\") as fh:\n",
    "    content=fh.read()\n",
    "    modified_=content.replace(old_word,replace_word)\n",
    "    \n",
    "with open ('input.txt','w') as fh:\n",
    "    fh.write(modified_)\n",
    "\n",
    "with open ('input.txt','r') as g:\n",
    "    print(g.read())"
   ]
  },
  {
   "cell_type": "markdown",
   "id": "32d45238",
   "metadata": {},
   "source": [
    "#### 11. Write a program that reads a text file, removes all the vowels (a, e, i, o, u) from the text, and writes the result to a new file.\n",
    "\n"
   ]
  },
  {
   "cell_type": "code",
   "execution_count": 24,
   "id": "36a1f2fa",
   "metadata": {},
   "outputs": [
    {
     "name": "stdout",
     "output_type": "stream",
     "text": [
      "     \n",
      "hll..\n",
      "scnd ln scnd,\n",
      "     \n",
      "wht spc:\n",
      "\n"
     ]
    }
   ],
   "source": [
    "vowels = \"aeiouAEIOU\"\n",
    "\n",
    "with open(\"input.txt\", \"r\") as file:\n",
    "    content = file.read()\n",
    "    modified_content = \"\".join(char for char in content if char not in vowels)\n",
    "\n",
    "with open(\"output.txt\", \"w\") as file:\n",
    "    file.write(modified_content)\n",
    "\n",
    "with open(\"output.txt\",\"r\") as g:\n",
    "    print(g.read())"
   ]
  },
  {
   "cell_type": "markdown",
   "id": "d2b745ad",
   "metadata": {},
   "source": [
    "#### 12. Write a program that reads a text file and counts the number of times each word appears in the text. The program should then write the results to a new file, sorted by the number of times each word appears in descending order.\n",
    "\n"
   ]
  },
  {
   "cell_type": "code",
   "execution_count": 41,
   "id": "eb2c32a7",
   "metadata": {},
   "outputs": [
    {
     "name": "stdout",
     "output_type": "stream",
     "text": [
      "second: 2\n",
      "hello: 1\n",
      "line: 1\n",
      "white: 1\n",
      "space:: 1\n",
      "\n"
     ]
    }
   ],
   "source": [
    "with open('input.txt', 'r') as file:\n",
    "    text = file.read()\n",
    "    text = text.lower().replace('.', '').replace(',', '')\n",
    "    words = text.split()\n",
    "\n",
    "    word_freq = {}       # Create a dictionary to store word frequencies\n",
    "    for word in words:\n",
    "        word_freq[word] = word_freq.get(word, 0) + 1  #If the word is not found in the dictionary, it returns the default value 0.\n",
    "\n",
    "    sorted_word_freq = sorted(word_freq.items(), key=lambda x: x[1], reverse=True)  # Sort the dictionary by value (word frequency)\n",
    "\n",
    "with open('output.txt', 'w') as file1:\n",
    "    for word, freq in sorted_word_freq:\n",
    "        file1.write(f\"{word}: {freq}\\n\")\n",
    "\n",
    "with open ('output.txt','r') as d:\n",
    "    print(d.read())"
   ]
  },
  {
   "cell_type": "markdown",
   "id": "75f07c72",
   "metadata": {},
   "source": [
    "#### 13. Write a program that reads a binary file and prints out the hexadecimal representation of the file's contents.\n",
    "\n"
   ]
  },
  {
   "cell_type": "code",
   "execution_count": 10,
   "id": "31624e71",
   "metadata": {},
   "outputs": [
    {
     "name": "stdout",
     "output_type": "stream",
     "text": [
      "Hexadecimal representation of 'input.txt':\n",
      "\"     \": \"2020202020\"\n",
      "\"hello..\": \"68656C6C6F2E2E\"\n",
      "\"second line second,\": \"7365636F6E64206C696E65207365636F6E642C\"\n",
      "\"     \": \"2020202020\"\n",
      "\"white space:\": \"77686974652073706163653A\"\n"
     ]
    }
   ],
   "source": [
    "with open('input.txt', 'rb') as binary_file:  #mode ('rb'), it is read as a sequence of bytes (binary data).\n",
    "    binary_data = binary_file.read()\n",
    "\n",
    "    # Convert binary data to hexadecimal # .decode is used to convert binary(encoded) into string(decoded) .\n",
    "    hex_representation = '\\n'.join(f'\"{line.decode()}\": \"{\"\".join(f\"{byte:02X}\" for byte in line)}\"'for line in binary_data.splitlines())\n",
    "\n",
    "    print(f\"Hexadecimal representation of '{'input.txt'}':\")\n",
    "    print(hex_representation)"
   ]
  },
  {
   "cell_type": "markdown",
   "id": "d4da7239",
   "metadata": {},
   "source": [
    "#### 14. Write a program that reads a CSV file (comma-separated values) and converts it into an HTML table.\n",
    "\n"
   ]
  },
  {
   "cell_type": "code",
   "execution_count": 11,
   "id": "3247f8ce",
   "metadata": {},
   "outputs": [
    {
     "name": "stdout",
     "output_type": "stream",
     "text": [
      "txt convert csv file is : \n",
      "      Name  age profession\n",
      "0    John   25     Trader\n",
      "1    Jack   23   Engineer\n",
      "2  Miller   28     Doctor\n",
      "============================================================\n",
      "<table border=\"1\" class=\"dataframe\">\n",
      "  <thead>\n",
      "    <tr style=\"text-align: right;\">\n",
      "      <th></th>\n",
      "      <th>Name</th>\n",
      "      <th>age</th>\n",
      "      <th>profession</th>\n",
      "    </tr>\n",
      "  </thead>\n",
      "  <tbody>\n",
      "    <tr>\n",
      "      <th>0</th>\n",
      "      <td>John</td>\n",
      "      <td>25</td>\n",
      "      <td>Trader</td>\n",
      "    </tr>\n",
      "    <tr>\n",
      "      <th>1</th>\n",
      "      <td>Jack</td>\n",
      "      <td>23</td>\n",
      "      <td>Engineer</td>\n",
      "    </tr>\n",
      "    <tr>\n",
      "      <th>2</th>\n",
      "      <td>Miller</td>\n",
      "      <td>28</td>\n",
      "      <td>Doctor</td>\n",
      "    </tr>\n",
      "  </tbody>\n",
      "</table>\n"
     ]
    }
   ],
   "source": [
    "file_name='input1.txt'    # opended a new file as txt file.\n",
    "f=open(file_name,'w')\n",
    "f.write('Name,age,profession\\n')\n",
    "f.write('John,25,Trader\\n')\n",
    "f.write('Jack,23,Engineer\\n')\n",
    "f.write('Miller,28,Doctor\\n')\n",
    "f.close()\n",
    "\n",
    "import pandas as pd\n",
    "\n",
    "df=pd.read_csv('input1.txt') # convert txt to csv.\n",
    "df.to_csv('input1.csv')\n",
    "print(\"txt convert csv file is : \\n\",df.head())    \n",
    "print(\"=\"*60)\n",
    "\n",
    "df.to_html('output1.html') # convert csv to html.\n",
    "html_file=df.to_html()\n",
    "print(html_file)"
   ]
  },
  {
   "cell_type": "markdown",
   "id": "6c2e060d",
   "metadata": {},
   "source": [
    "#### 15. Write a program that reads a JSON file and displays the data in a formatted way, sorted by a given field.\n",
    "\n"
   ]
  },
  {
   "cell_type": "code",
   "execution_count": 60,
   "id": "90967980",
   "metadata": {
    "scrolled": true
   },
   "outputs": [
    {
     "name": "stdout",
     "output_type": "stream",
     "text": [
      "JSON file is : \n",
      " [\n",
      "  {\n",
      "    \"name\": \"John\",\n",
      "    \"age\": \"25\",\n",
      "    \"profession\": \"Engineer\"\n",
      "  },\n",
      "  {\n",
      "    \"name\": \"Anna\",\n",
      "    \"age\": \"30\",\n",
      "    \"profession\": \"Scientist\"\n",
      "  }\n",
      "]\n",
      "============================================================\n",
      "JSON file data in formatted and sorted: \n",
      "\n",
      "{'name': 'Anna', 'age': '30', 'profession': 'Scientist'}\n",
      "{'name': 'John', 'age': '25', 'profession': 'Engineer'}\n"
     ]
    }
   ],
   "source": [
    "# create a json file\n",
    "import json\n",
    "\n",
    "data=[{\"name\":\"John\",\"age\":\"25\",\"profession\":\"Engineer\"}, {\"name\": \"Anna\", \"age\": \"30\", \"profession\": \"Scientist\"}]\n",
    "\n",
    "with open('my_data.json','w') as fh:\n",
    "    json.dump(data,fh,indent=2) # indent is space from { to content. \n",
    "\n",
    "with open('my_data.json','r') as f:\n",
    "    print(\"JSON file is : \\n\",f.read())\n",
    "\n",
    "print(\"=\"*60)\n",
    "\n",
    "# sorting json\n",
    "with open ('my_data.json','r') as f:\n",
    "    d=json.load(f)\n",
    "\n",
    "sorted_data=sorted(d,key=lambda item:item['name'])\n",
    "\n",
    "print(\"JSON file data in formatted and sorted: \\n\")\n",
    "\n",
    "for item in sorted_data:\n",
    "    print(item)"
   ]
  },
  {
   "cell_type": "markdown",
   "id": "067f2262",
   "metadata": {},
   "source": [
    "#### 16. Write a program that reads a directory of image files (such as .jpg or .png) and resizes them to a given width and height. The program should then save the resized images to a new directory.\n",
    "\n"
   ]
  },
  {
   "cell_type": "code",
   "execution_count": 12,
   "id": "84a96aa9",
   "metadata": {},
   "outputs": [
    {
     "data": {
      "text/plain": [
       "<bound method Image.show of <PIL.Image.Image image mode=RGBA size=600x500 at 0x220B43D0E10>>"
      ]
     },
     "execution_count": 12,
     "metadata": {},
     "output_type": "execute_result"
    }
   ],
   "source": [
    "from PIL import Image  # pillow\n",
    "img=Image.open('image.png')\n",
    "width = 600\n",
    "height = 500\n",
    "img=img.resize((width,height),Image.Resampling.LANCZOS)\n",
    "img.save('image_resize.png')\n",
    "img.show"
   ]
  },
  {
   "cell_type": "markdown",
   "id": "eca40f0b",
   "metadata": {},
   "source": [
    "#### 17. Write a program that reads a text file and replaces all occurrences of a given word with another word. The program should then write the modified text to a new file."
   ]
  },
  {
   "cell_type": "code",
   "execution_count": 61,
   "id": "da5d03a3",
   "metadata": {},
   "outputs": [
    {
     "name": "stdout",
     "output_type": "stream",
     "text": [
      "     \n",
      "hello..\n",
      "second line second,\n",
      "     \n",
      "white space:\n",
      "\n"
     ]
    }
   ],
   "source": [
    "replace_word = \"hello..\"\n",
    "old_word=\"hi...\"\n",
    "\n",
    "with open(\"input.txt\",\"r\") as fh:\n",
    "    content=fh.read()\n",
    "    modified_=content.replace(old_word,replace_word)\n",
    "    \n",
    "with open ('output.txt','w') as fh:\n",
    "    fh.write(modified_)\n",
    "\n",
    "with open ('output.txt','r') as g:\n",
    "    print(g.read())"
   ]
  },
  {
   "cell_type": "code",
   "execution_count": null,
   "id": "b9d9ba99",
   "metadata": {},
   "outputs": [],
   "source": []
  }
 ],
 "metadata": {
  "kernelspec": {
   "display_name": "Python 3 (ipykernel)",
   "language": "python",
   "name": "python3"
  },
  "language_info": {
   "codemirror_mode": {
    "name": "ipython",
    "version": 3
   },
   "file_extension": ".py",
   "mimetype": "text/x-python",
   "name": "python",
   "nbconvert_exporter": "python",
   "pygments_lexer": "ipython3",
   "version": "3.11.5"
  }
 },
 "nbformat": 4,
 "nbformat_minor": 5
}

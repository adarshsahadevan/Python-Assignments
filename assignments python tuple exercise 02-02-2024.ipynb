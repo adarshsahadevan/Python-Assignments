{
 "cells": [
  {
   "cell_type": "markdown",
   "id": "b64152a4",
   "metadata": {},
   "source": [
    "# Tuple Exercise"
   ]
  },
  {
   "cell_type": "markdown",
   "id": "c5a58110",
   "metadata": {},
   "source": [
    "### 1) Write python program to find the maximum and minimum values in a tuple of integers."
   ]
  },
  {
   "cell_type": "code",
   "execution_count": 4,
   "id": "d8cfad05",
   "metadata": {},
   "outputs": [
    {
     "name": "stdout",
     "output_type": "stream",
     "text": [
      "maximum:  5\n",
      "minimum:  1\n"
     ]
    }
   ],
   "source": [
    "tuple_numbers=(1,2,3,5)\n",
    "print(\"maximum: \" ,max(tuple_numbers))\n",
    "print(\"minimum: \" ,min(tuple_numbers))"
   ]
  },
  {
   "cell_type": "markdown",
   "id": "f03e3d61",
   "metadata": {},
   "source": [
    "### 2) Write a python program to concatenate two tuples element-wise."
   ]
  },
  {
   "cell_type": "code",
   "execution_count": 24,
   "id": "ac72cd99",
   "metadata": {},
   "outputs": [
    {
     "name": "stdout",
     "output_type": "stream",
     "text": [
      "['a1', 'b2', 'c3']\n"
     ]
    }
   ],
   "source": [
    "tuple1=(\"a\",\"b\",\"c\")\n",
    "tuple2=(\"1\",\"2\",\"3\")\n",
    "\n",
    "tuple3=[i+j for i,j in zip(tuple1,tuple2)]\n",
    "print(tuple3)"
   ]
  },
  {
   "cell_type": "markdown",
   "id": "33d05b4a",
   "metadata": {},
   "source": [
    "### 3) Write a python program to count the number of occurrences of an element in tuple."
   ]
  },
  {
   "cell_type": "code",
   "execution_count": 34,
   "id": "5b706908",
   "metadata": {},
   "outputs": [
    {
     "name": "stdout",
     "output_type": "stream",
     "text": [
      "{1: 1, 22: 2, 55: 2, 2: 1, 9: 1}\n"
     ]
    }
   ],
   "source": [
    "tuple=(1,22,22,55,55,2,9)\n",
    "counts={}\n",
    "for num in tuple:\n",
    "    if num in counts:\n",
    "        counts[num] +=1\n",
    "    else:\n",
    "        counts[num] =1\n",
    "print(counts)        "
   ]
  },
  {
   "cell_type": "markdown",
   "id": "249709a7",
   "metadata": {},
   "source": [
    "### 4) Write a python program to convert a list of tuples into a dictionary .|"
   ]
  },
  {
   "cell_type": "code",
   "execution_count": 49,
   "id": "164df27b",
   "metadata": {},
   "outputs": [
    {
     "name": "stdout",
     "output_type": "stream",
     "text": [
      "<class 'tuple'>\n",
      "{'hi': 25, '12': 10}\n"
     ]
    }
   ],
   "source": [
    "tuple=((\"hi\",25),(\"12\",10))\n",
    "print(type(tuple))\n",
    "print(dict(tuple))"
   ]
  },
  {
   "cell_type": "markdown",
   "id": "9cec4897",
   "metadata": {},
   "source": [
    "### 5) Write a python program to slice a tuple into multiple sub-tuples based on a given size."
   ]
  },
  {
   "cell_type": "code",
   "execution_count": 58,
   "id": "cea79f67",
   "metadata": {},
   "outputs": [
    {
     "name": "stdout",
     "output_type": "stream",
     "text": [
      "(1, 2)\n",
      "(1, 2, 5)\n",
      "(1, 6)\n"
     ]
    }
   ],
   "source": [
    "tuple=(1,2,5,4,6,5,)\n",
    "sub_tuples=tuple[0:2]\n",
    "sub_tuples2=tuple[:3]\n",
    "sub_tuples3=tuple[::4]\n",
    "print(sub_tuples)\n",
    "print(sub_tuples2)\n",
    "print(sub_tuples3)"
   ]
  },
  {
   "cell_type": "markdown",
   "id": "a4f8d654",
   "metadata": {},
   "source": [
    "### 6) Write a python program to create a nested tuple and access an element from it."
   ]
  },
  {
   "cell_type": "code",
   "execution_count": 63,
   "id": "c36d8abf",
   "metadata": {},
   "outputs": [
    {
     "name": "stdout",
     "output_type": "stream",
     "text": [
      "((199, 265), (199, 4684), (199, 625))\n",
      "4684\n"
     ]
    }
   ],
   "source": [
    "tuple=(199,265,565,4684,625,555,)\n",
    "sub_tuples=tuple[0:2],tuple[::3],tuple[::4]\n",
    "print(sub_tuples)\n",
    "print(sub_tuples[1][1])"
   ]
  },
  {
   "cell_type": "markdown",
   "id": "a733caff",
   "metadata": {},
   "source": [
    "### 7)  Write a python program to remove an element from a tuple ."
   ]
  },
  {
   "cell_type": "code",
   "execution_count": 2,
   "id": "6f657c56",
   "metadata": {},
   "outputs": [
    {
     "name": "stdout",
     "output_type": "stream",
     "text": [
      "('hello', 'how', 'are', 'you')\n"
     ]
    }
   ],
   "source": [
    "t=(\"hello\",\"how\",\"how\",\"are\",\"you\")\n",
    "x=list(t)\n",
    "x.remove(\"how\") #or del t[1]\n",
    "t=tuple(x)\n",
    "print(t)\n",
    "      "
   ]
  },
  {
   "cell_type": "markdown",
   "id": "56e17229",
   "metadata": {},
   "source": [
    "### 8) Write  a python program to merge two tuples and remove the duplicate elements."
   ]
  },
  {
   "cell_type": "code",
   "execution_count": 12,
   "id": "d7eb1b82",
   "metadata": {},
   "outputs": [
    {
     "name": "stdout",
     "output_type": "stream",
     "text": [
      "('ben', 'john', 'alex')\n"
     ]
    }
   ],
   "source": [
    "tuple1=(\"john\",\"alex\")\n",
    "tuple2=(\"ben\",\"alex\")\n",
    "x=set(tuple1)\n",
    "y=set(tuple2)\n",
    "x.update(y)\n",
    "tuple3=tuple(x)\n",
    "print(tuple3)"
   ]
  },
  {
   "cell_type": "markdown",
   "id": "9b9668bd",
   "metadata": {},
   "source": [
    "### 9)  Write a python program to create a tuple with a variable length and unpack it into multiple variables"
   ]
  },
  {
   "cell_type": "code",
   "execution_count": 10,
   "id": "f50e5ea1",
   "metadata": {},
   "outputs": [
    {
     "name": "stdout",
     "output_type": "stream",
     "text": [
      "(9, 8, 7, 6, 5, 12)\n",
      "(9, 8, 7)\n",
      "6\n",
      "5\n",
      "12\n"
     ]
    }
   ],
   "source": [
    "t=(9,8,7,6,5,12)\n",
    "print(t)\n",
    "*x,y,s,z=t\n",
    "print(tuple(x))\n",
    "print(y)\n",
    "print(s)\n",
    "print(z)"
   ]
  },
  {
   "cell_type": "markdown",
   "id": "d9f8d70c",
   "metadata": {},
   "source": [
    "### 10)  Write a python program to find the index of the first occurrence of an element in a tuple."
   ]
  },
  {
   "cell_type": "code",
   "execution_count": 11,
   "id": "34a4f4c4",
   "metadata": {},
   "outputs": [
    {
     "name": "stdout",
     "output_type": "stream",
     "text": [
      "2\n"
     ]
    }
   ],
   "source": [
    "t=(6,8,3,5,3,7)\n",
    "print(t.index(3))"
   ]
  },
  {
   "cell_type": "code",
   "execution_count": null,
   "id": "4a0496e5",
   "metadata": {},
   "outputs": [],
   "source": []
  }
 ],
 "metadata": {
  "kernelspec": {
   "display_name": "Python 3 (ipykernel)",
   "language": "python",
   "name": "python3"
  },
  "language_info": {
   "codemirror_mode": {
    "name": "ipython",
    "version": 3
   },
   "file_extension": ".py",
   "mimetype": "text/x-python",
   "name": "python",
   "nbconvert_exporter": "python",
   "pygments_lexer": "ipython3",
   "version": "3.11.5"
  }
 },
 "nbformat": 4,
 "nbformat_minor": 5
}

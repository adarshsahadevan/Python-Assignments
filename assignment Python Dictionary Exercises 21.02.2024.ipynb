{
 "cells": [
  {
   "cell_type": "markdown",
   "id": "5de71f39",
   "metadata": {},
   "source": [
    "# Python Dictionary Exercises"
   ]
  },
  {
   "cell_type": "markdown",
   "id": "92c97d46",
   "metadata": {},
   "source": [
    "#### 1. Write a Python script to sort (ascending and descending) a dictionary by value."
   ]
  },
  {
   "cell_type": "code",
   "execution_count": 10,
   "id": "cfb9b61d",
   "metadata": {},
   "outputs": [
    {
     "name": "stdout",
     "output_type": "stream",
     "text": [
      "ascending order of dictionary :  {'grape': 2, 'orange': 3, 'banana': 5, 'apple': 6}\n",
      "descending order of dictionary :  {'apple': 6, 'banana': 5, 'orange': 3, 'grape': 2}\n"
     ]
    }
   ],
   "source": [
    "my_dict={\"apple\":6,\"orange\":3,\"grape\":2,\"banana\":5}\n",
    "\n",
    "ascending_dict=dict(sorted(my_dict.items(),key=lambda item:item[1]))      #The lambda function lambda item: item[1] extracts the value (item[1]) from each key-value pair for sorting.\n",
    "print(\"ascending order of dictionary : \",ascending_dict)\n",
    "\n",
    "descending_dict=dict(sorted(my_dict.items(),key=lambda item:item[1],reverse=True))\n",
    "print(\"descending order of dictionary : \",descending_dict)                     "
   ]
  },
  {
   "cell_type": "markdown",
   "id": "961c121b",
   "metadata": {},
   "source": [
    "#### 2. Write a Python script to check whether a given key already exists in a dictionary."
   ]
  },
  {
   "cell_type": "code",
   "execution_count": 11,
   "id": "2443ed2f",
   "metadata": {},
   "outputs": [
    {
     "name": "stdout",
     "output_type": "stream",
     "text": [
      "key doesn't exists\n"
     ]
    }
   ],
   "source": [
    "my_dict={\"apple\":6,\"orange\":3,\"grape\":2,\"banana\":5}\n",
    "given_key=\"Lemon\"\n",
    "\n",
    "if given_key in my_dict:\n",
    "    print(\"key exists\")\n",
    "else:\n",
    "    print(\"key doesn't exists\")"
   ]
  },
  {
   "cell_type": "markdown",
   "id": "6e2b712b",
   "metadata": {},
   "source": [
    "#### 3. Write a Python script to generate and print a dictionary that contains a number (between 1 and n) in the form (x, x*x) Sample Dictionary (n = 5) : Expected Output: {1:1, 2: 4, 3:9, 4: 16, 5: 25}."
   ]
  },
  {
   "cell_type": "code",
   "execution_count": 12,
   "id": "8e6eabc2",
   "metadata": {},
   "outputs": [
    {
     "name": "stdout",
     "output_type": "stream",
     "text": [
      "{1: 1, 2: 4, 3: 9, 4: 16, 5: 25}\n"
     ]
    }
   ],
   "source": [
    "def dict1(n):\n",
    "    sqr_dict={x:x*x for x in range (1,n+1)}\n",
    "    return sqr_dict\n",
    "n=5\n",
    "sqr_result=dict1(n)\n",
    "print(sqr_result)"
   ]
  },
  {
   "cell_type": "markdown",
   "id": "9a892e7e",
   "metadata": {},
   "source": [
    "#### 4. Write a Python program to get the maximum and minimum values of a dictionary."
   ]
  },
  {
   "cell_type": "code",
   "execution_count": 14,
   "id": "cbc703be",
   "metadata": {},
   "outputs": [
    {
     "name": "stdout",
     "output_type": "stream",
     "text": [
      "maximum value of dictionary is:  6\n",
      "minimum value of dictionary is:  2\n"
     ]
    }
   ],
   "source": [
    "my_dict={\"apple\":6,\"orange\":3,\"grape\":2,\"banana\":5}\n",
    "\n",
    "max_value=max(my_dict.values())\n",
    "min_value=min(my_dict.values())\n",
    "\n",
    "print(\"maximum value of dictionary is: \",max_value)\n",
    "print(\"minimum value of dictionary is: \",min_value)"
   ]
  },
  {
   "cell_type": "markdown",
   "id": "d9efdc6f",
   "metadata": {},
   "source": [
    "#### 5. Write a Python program to create a dictionary of names and their ages. Ask the user to input the name and age of three people and store them in the dictionary."
   ]
  },
  {
   "cell_type": "code",
   "execution_count": 11,
   "id": "be14f7f0",
   "metadata": {},
   "outputs": [
    {
     "name": "stdout",
     "output_type": "stream",
     "text": [
      "enter name of person 1: John\n",
      "enter age of John: 25\n",
      "enter name of person 2: Robert\n",
      "enter age of Robert: 26\n",
      "enter name of person 3: Rock\n",
      "enter age of Rock: 24\n",
      "dictionary of names and age: \n",
      "John:25 years old\n",
      "Robert:26 years old\n",
      "Rock:24 years old\n"
     ]
    }
   ],
   "source": [
    "def main():\n",
    "    three_people=3\n",
    "    new_dict={}\n",
    "    \n",
    "    for i in range(three_people):\n",
    "        name=input(f\"enter name of person {i+1}: \")\n",
    "        age=int(input(f\"enter age of {name}: \"))\n",
    "        new_dict[name]=age    # name assign key thats why inside[] and age is value\n",
    "    print(\"dictionary of names and age: \")  \n",
    "    for name,age in new_dict.items():\n",
    "        print(f\"{name}:{age} years old\")\n",
    "main()        "
   ]
  },
  {
   "cell_type": "markdown",
   "id": "aa100d3b",
   "metadata": {},
   "source": [
    "#### 6. Write a Python program to group a list of words into a dictionary, where the key is the length of the word and the value is a list of words of that length."
   ]
  },
  {
   "cell_type": "code",
   "execution_count": 5,
   "id": "e97f6228",
   "metadata": {},
   "outputs": [
    {
     "name": "stdout",
     "output_type": "stream",
     "text": [
      "enter a list of words seperated by space :apple kiwi orange banana \n",
      "Dictionary of words: \n",
      "5: apple\n",
      "4: kiwi\n",
      "6: orange,banana\n"
     ]
    }
   ],
   "source": [
    "def word_by_length(word_list):\n",
    "    word_dict={}\n",
    "    for word in word_list:\n",
    "        length=len(word)\n",
    "        if length not in word_dict:\n",
    "            word_dict[length]=[word]\n",
    "        else:\n",
    "            word_dict[length].append(word)\n",
    "    return word_dict\n",
    "def main():\n",
    "    words=input(\"enter a list of words seperated by space :\").split()\n",
    "    grouped_words= word_by_length(words)\n",
    "    print(\"Dictionary of words: \")\n",
    "    for length,word_list in grouped_words.items():\n",
    "        print(f\"{length}: {','.join(word_list)}\")  # is to join the word of same length .\n",
    "main()              "
   ]
  },
  {
   "cell_type": "markdown",
   "id": "bd5b8a0f",
   "metadata": {},
   "source": [
    "#### 7. Write a Python program to create a dictionary where the key is a tuple of two numbers, and the value is the sum of those numbers."
   ]
  },
  {
   "cell_type": "code",
   "execution_count": 3,
   "id": "a0ba8992",
   "metadata": {},
   "outputs": [
    {
     "name": "stdout",
     "output_type": "stream",
     "text": [
      "enter the first number: 5\n",
      "enter the second number: 3\n",
      "enter the first number: 8\n",
      "enter the second number: 9\n",
      "enter the first number: 1\n",
      "enter the second number: 6\n",
      "Generated dictionary: \n",
      "(5, 3):8\n",
      "(8, 9):17\n",
      "(1, 6):7\n"
     ]
    }
   ],
   "source": [
    "def dict_(num_pairs):\n",
    "    sum_dict={}\n",
    "    for x in range(num_pairs):\n",
    "        num1=int(input(\"enter the first number: \"))\n",
    "        num2=int(input(\"enter the second number: \"))\n",
    "        key=(num1,num2)\n",
    "        value=num1+num2\n",
    "        sum_dict[key]=value\n",
    "    return sum_dict   \n",
    "\n",
    "num_pairs_generate=3\n",
    "result_dict=dict_(num_pairs_generate)\n",
    "print(\"Generated dictionary: \")\n",
    "for key,value in result_dict.items():\n",
    "    print(f\"{key}:{value}\")"
   ]
  },
  {
   "cell_type": "markdown",
   "id": "79430760",
   "metadata": {},
   "source": [
    "#### 8. Write a Python program to find the intersection of two dictionaries."
   ]
  },
  {
   "cell_type": "code",
   "execution_count": 5,
   "id": "db7afa2a",
   "metadata": {},
   "outputs": [
    {
     "name": "stdout",
     "output_type": "stream",
     "text": [
      "intersection of dictionaries :  {'nikhil': 1, 'akshat': 15}\n"
     ]
    }
   ],
   "source": [
    "def inter_dict(dict1,dict2):\n",
    "    final_dict={key:dict1[key] for key in dict1 if key in dict2}\n",
    "    return final_dict\n",
    "\n",
    "dict1 = {'nikhil': 1, 'vashu': 5, 'manjeet': 10, 'akshat': 15}\n",
    "dict2 = {'akshat': 15, 'nikhil': 1, 'me': 56}\n",
    "\n",
    "last_dict=inter_dict(dict1,dict2)\n",
    "print(\"intersection of dictionaries : \",last_dict)"
   ]
  },
  {
   "cell_type": "code",
   "execution_count": null,
   "id": "bc8f7b15",
   "metadata": {},
   "outputs": [],
   "source": []
  }
 ],
 "metadata": {
  "kernelspec": {
   "display_name": "Python 3 (ipykernel)",
   "language": "python",
   "name": "python3"
  },
  "language_info": {
   "codemirror_mode": {
    "name": "ipython",
    "version": 3
   },
   "file_extension": ".py",
   "mimetype": "text/x-python",
   "name": "python",
   "nbconvert_exporter": "python",
   "pygments_lexer": "ipython3",
   "version": "3.11.5"
  }
 },
 "nbformat": 4,
 "nbformat_minor": 5
}

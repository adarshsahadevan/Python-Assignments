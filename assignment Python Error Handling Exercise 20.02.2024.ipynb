{
 "cells": [
  {
   "cell_type": "markdown",
   "id": "d28640d7",
   "metadata": {},
   "source": [
    "# Python Error Handling Exercise"
   ]
  },
  {
   "cell_type": "markdown",
   "id": "e23d1cff",
   "metadata": {},
   "source": [
    "#### 1. Write a program that prompts the user to enter a number and displays its square root. If the user enters an invalid value, print an error message and prompt them to enter another value.\n",
    "\n",
    "\n"
   ]
  },
  {
   "cell_type": "code",
   "execution_count": 7,
   "id": "1b49e8c8",
   "metadata": {},
   "outputs": [
    {
     "name": "stdout",
     "output_type": "stream",
     "text": [
      "enter a positive number:-25\n",
      "Please enter a non-negative number.\n",
      "enter a positive number:hello\n",
      "Invalid input. Please enter a valid number.\n",
      "enter a positive number:25\n",
      "the square root of 25.0 is 5.0\n"
     ]
    }
   ],
   "source": [
    "import math\n",
    "\n",
    "def number_():\n",
    "    while True:\n",
    "        try:\n",
    "            num=float(input(\"enter a positive number:\"))\n",
    "            if num>=0:\n",
    "                return num\n",
    "            else:\n",
    "                print(\"Please enter a non-negative number.\")\n",
    "        except  ValueError:\n",
    "            print (\"Invalid input. Please enter a valid number.\")\n",
    "            \n",
    "def main():\n",
    "    num=number_()\n",
    "    num_sqrt=math.sqrt(num)\n",
    "    print(f\"the square root of {num} is {num_sqrt}\")\n",
    "    \n",
    "main()    \n",
    "          "
   ]
  },
  {
   "cell_type": "markdown",
   "id": "1036af1a",
   "metadata": {},
   "source": [
    "#### 2. Write a program that prompts the user to enter a list of numbers separated by commas, and calculates their sum. If the user enters an invalid value, print an error message and prompt them to enter another value.\n",
    "\n"
   ]
  },
  {
   "cell_type": "code",
   "execution_count": 10,
   "id": "aadc45d5",
   "metadata": {},
   "outputs": [
    {
     "name": "stdout",
     "output_type": "stream",
     "text": [
      "enter list of numbers separated by commas: 5.8,9,6,5\n",
      "Invalid input. Please enter valid numeric values separated by commas.\n",
      "enter list of numbers separated by commas: 5,8,9,hello\n",
      "Invalid input. Please enter valid numeric values separated by commas.\n",
      "enter list of numbers separated by commas: 5,8,9,6,5\n",
      "list is:  [5, 8, 9, 6, 5]\n",
      "sum of the list numbers :33\n"
     ]
    }
   ],
   "source": [
    "def list1():\n",
    "    while True:\n",
    "        try:\n",
    "            input_=input(\"enter list of numbers separated by commas: \")\n",
    "            num_list=[int(num) for num in input_.split(\",\")]\n",
    "            return num_list\n",
    "        except ValueError:\n",
    "            print(\"Invalid input. Please enter valid numeric values separated by commas.\")\n",
    "\n",
    "def main():\n",
    "    num_list=list1()\n",
    "    print(\"list is: \",list(num_list))\n",
    "    total_sum=sum(num_list)\n",
    "    \n",
    "    print(f\"sum of the list numbers :{total_sum}\")\n",
    "main()    \n",
    "    "
   ]
  },
  {
   "cell_type": "markdown",
   "id": "82a5254f",
   "metadata": {},
   "source": [
    "#### 3. Write a program that prompts the user to enter a filename and displays its contents. If the file does not exist or cannot be opened, print an error message and prompt the user to enter another filename.\n",
    "\n"
   ]
  },
  {
   "cell_type": "code",
   "execution_count": 3,
   "id": "f94885cf",
   "metadata": {},
   "outputs": [
    {
     "name": "stdout",
     "output_type": "stream",
     "text": [
      "Enter a filename: read_file\n",
      "Error,file read_file not found.\n",
      "Do yo want to read another file?(yes/no):yes\n",
      "Enter a filename: main\n",
      "Error,file main not found.\n",
      "Do yo want to read another file?(yes/no):no\n"
     ]
    }
   ],
   "source": [
    "def read_file(filename):\n",
    "    try:\n",
    "        with open (filename) as file:\n",
    "            content =file.read()\n",
    "            print(f\"contents of {filename}: {content}\")\n",
    "    except FileNotFoundError:\n",
    "        print(f\"Error,file {filename} not found.\")\n",
    "    except IOError:\n",
    "        print(f\"Error,Unable to open file{filename}.\")\n",
    "        \n",
    "def main():\n",
    "    while True:\n",
    "        user_filename=input(\"Enter a filename: \")\n",
    "        read_file(user_filename)\n",
    "        another_file=input(\"Do yo want to read another file?(yes/no):\")\n",
    "        if another_file.lower() !=\"yes\":  # here i have given yes or no option in small letters that is why .lower() given in this line.\n",
    "            break       #  If user don’t type “yes,” the loop will exit, and the program will terminate. Otherwise, it will continue prompting for filenames.\n",
    "main()"
   ]
  },
  {
   "cell_type": "markdown",
   "id": "d14aa34f",
   "metadata": {},
   "source": [
    "#### 4. Write a program that prompts the user to enter a number and displays its factorial. If the user enters an invalid value, print an error message and prompt them to enter another value."
   ]
  },
  {
   "cell_type": "code",
   "execution_count": 8,
   "id": "77af56c4",
   "metadata": {},
   "outputs": [
    {
     "name": "stdout",
     "output_type": "stream",
     "text": [
      "Enter a positive integer: -5\n",
      "Please enter a non-negative integer.\n",
      "Enter a positive integer: hi\n",
      "Invalid input. Please enter a valid integer.\n",
      "Enter a positive integer: 5\n",
      "Factorial of 5 is 120\n"
     ]
    }
   ],
   "source": [
    "def enter_number():\n",
    "    while True:\n",
    "        try:\n",
    "            num=int(input(\"Enter a positive integer: \"))\n",
    "            if num>=0:\n",
    "                return num\n",
    "            else:\n",
    "                print(\"Please enter a non-negative integer.\")\n",
    "        except ValueError:\n",
    "            print(\"Invalid input. Please enter a valid integer.\")\n",
    "\n",
    "def factorial_(num):\n",
    "    factorial=1\n",
    "    for i in range(1,num+1):  # +1 ensures that the loop iterates through all the numbers from 1 up to and including num.\n",
    "        factorial*=i\n",
    "    return factorial\n",
    "\n",
    "def main():\n",
    "    num=enter_number()\n",
    "    result=factorial_(num)\n",
    "    print(f\"Factorial of {num} is {result}\")\n",
    "main()    "
   ]
  },
  {
   "cell_type": "markdown",
   "id": "3b47fbfa",
   "metadata": {},
   "source": [
    "#### 5. Write a program that prompts the user to enter a string and displays its length. If the user enters an empty string, print an error message and prompt them to enter another value."
   ]
  },
  {
   "cell_type": "code",
   "execution_count": 3,
   "id": "2fab11c1",
   "metadata": {},
   "outputs": [
    {
     "name": "stdout",
     "output_type": "stream",
     "text": [
      "Enter a string: \n",
      "Error: Please enter a non-empty string.\n",
      "Enter a string: 568\n",
      "Length of the entered string is: 3\n"
     ]
    }
   ],
   "source": [
    "def string_():\n",
    "    while True:\n",
    "        input_=input(\"Enter a string: \")\n",
    "        if input_:\n",
    "            return input_\n",
    "        else:\n",
    "            print(\"Error: Please enter a non-empty string.\")\n",
    "def main():\n",
    "    user_string=string_()\n",
    "    string_length=len(user_string)\n",
    "    print(f\"Length of the entered string is: {string_length}\")\n",
    "main()\n",
    "            "
   ]
  },
  {
   "cell_type": "markdown",
   "id": "334d3c20",
   "metadata": {},
   "source": [
    "#### 6. Flexible Word Game"
   ]
  },
  {
   "cell_type": "code",
   "execution_count": 3,
   "id": "fb347189",
   "metadata": {},
   "outputs": [
    {
     "name": "stdout",
     "output_type": "stream",
     "text": [
      "Welcome to the word Guessing Game!\n",
      "Try to guess the letters in the word.\n",
      "word: _ _ _ _ _ _ \n",
      "Guess a letter: a\n",
      "Correct guess!\n",
      "word: _ a_ a_ a\n",
      "Guess a letter: n\n",
      "Correct guess!\n",
      "word: _ anana\n",
      "Guess a letter: b\n",
      "Correct guess!\n",
      "word: banana\n",
      "Guess a letter: e\n",
      "Incorrect guess! You have 4 attempts left.\n",
      "word: banana\n",
      "Guess a letter: a\n",
      "Correct guess!\n",
      "word: banana\n",
      "Guess a letter: s\n",
      "Incorrect guess! You have 3 attempts left.\n",
      "word: banana\n",
      "Guess a letter: g\n",
      "Incorrect guess! You have 2 attempts left.\n",
      "word: banana\n",
      "Guess a letter: h\n",
      "Incorrect guess! You have 1 attempts left.\n",
      "Your final guess:w\n",
      "sorry , the word was ''banana'.\n"
     ]
    }
   ],
   "source": [
    "import random \n",
    "\n",
    "def choose_random_word():\n",
    "    words=[\"apple\", \"banana\", \"cherry\", \"date\", \"berry\", \"fig\", \"grape\"]\n",
    "    return random.choice(words)\n",
    "\n",
    "def display_word(word,guessed_letters):\n",
    "    display=\"\"\n",
    "    for letter in word:\n",
    "        if letter in guessed_letters:\n",
    "            display += letter\n",
    "        else:\n",
    "            display +=\"_ \"\n",
    "    return display  \n",
    "\n",
    "def main():\n",
    "    word_to_guess=choose_random_word()\n",
    "    guessed_letters=set()\n",
    "    max_attempts=5\n",
    "    \n",
    "    print(\"Welcome to the word Guessing Game!\")\n",
    "    print(\"Try to guess the letters in the word.\")\n",
    "    \n",
    "    while max_attempts>:\n",
    "        print(\"word:\",display_word(word_to_guess,guessed_letters))\n",
    "        guess=input(\"Guess a letter: \").lower()\n",
    "        \n",
    "        if len(guess) !=1 or not guess.isalpha():\n",
    "            print(\"Please enter a single letter.\")\n",
    "            continue\n",
    "            \n",
    "        guessed_letters.add(guess)\n",
    "        \n",
    "        if guess in word_to_guess:\n",
    "            print (\"Correct guess!\")\n",
    "        else:\n",
    "            max_attempts -=1\n",
    "            print(f\"Incorrect guess! You have {max_attempts} attempts left.\")\n",
    "    \n",
    "    final_guess=input(\"Your final guess:\").lower()\n",
    "    if final_guess==word_to_guess:\n",
    "        print(\"Congratulations! You guessed the word correctly.\")\n",
    "    else:\n",
    "        print(f\"sorry , the word was ''{word_to_guess}'.\")\n",
    "\n",
    "main()        \n",
    "            "
   ]
  },
  {
   "cell_type": "markdown",
   "id": "1a7eb6eb",
   "metadata": {},
   "source": [
    "#### 7. Implement a word game similar to the one you implement in the previous Word Game Exercise, but with the following difference: \n",
    "#### 8. Flexible Word Game :  The player is asked to choose the word size. The word size can only be 4 to 8 (both inclusive). If the user entry is not an integer or not in the range 4..8, the program keeps asking for the word size.\n",
    "\n",
    "#### Given below is a sample session. Try to follow the exact output format in your implementation:\n",
    "\n",
    "\n",
    "#### ===============================================================================\n",
    "\n",
    "#### Welcome to the FLEXIBLE WORD GAME\n",
    "\n",
    "#### Enter the word size (4 to 8): xyz\n",
    "\n",
    "#### That is not a number. Try again\n",
    "\n",
    "#### Enter the word size (4 to 8): 3\n",
    "\n",
    "#### Number not in correct range. Try again\n",
    "\n",
    "#### Enter the word size (4 to 8): 5\n",
    "\n",
    "#### Give all 5-letter words you know, one word at a time\n",
    "\n",
    "#### Enter the word 'end' to exit\n",
    "\n",
    "#### ===============================================================================\n",
    "\n",
    "#### What's the next word? frame\n",
    "\n",
    "#### What's the next word? great\n",
    "\n",
    "#### What's the next word? treat\n",
    "\n",
    "#### What's the next word? fat\n",
    "\n",
    "#### Not a 5-letter word\n",
    "\n",
    "#### What's the next word? creamy\n",
    "\n",
    "#### Not a 5-letter word\n",
    "\n",
    "#### What's the next word? treat\n",
    "\n",
    "#### Repeated word! treat is number 3 in the accepted words list.\n",
    "\n",
    "#### treat is no longer an accepted word and is banned\n",
    "\n",
    "#### What's the next word? crime\n",
    "\n",
    "#### What's the next word? treat\n",
    "\n",
    "#### treat is banned!\n",
    "\n",
    "#### What's the next word? end\n",
    "\n",
    "#### ===============================================================================\n",
    "\n",
    "#### Your score: 3\n",
    "\n",
    "#### Accepted words (in order of entry): frame great crime\n",
    "\n",
    "#### Accepted words (in sorted order): crime frame great\n",
    "\n",
    "#### Banned words (in sorted order): treat\n",
    "\n",
    "#### Thank you for playing the FLEXIBLE WORD GAME\n",
    "\n",
    "#### ===============================================================================\n"
   ]
  },
  {
   "cell_type": "code",
   "execution_count": 2,
   "id": "6f572648",
   "metadata": {},
   "outputs": [
    {
     "name": "stdout",
     "output_type": "stream",
     "text": [
      "Welcome to the FLEXIBLE WORD GAME\n",
      "Enter the word size (4 to 8): xyz\n",
      "That is not a number. Try again\n",
      "Enter the word size (4 to 8): 3\n",
      "Number not in correct range. Try again\n",
      "Enter the word size (4 to 8): 5\n",
      "Give all 5-letter words you know, one word at a time\n",
      "Enter the word 'end' to exit\n",
      "==========================================================================================\n",
      "What's the next word? frame\n",
      "frame accepted!\n",
      "What's the next word? great\n",
      "great accepted!\n",
      "What's the next word? treat\n",
      "treat accepted!\n",
      "What's the next word? fat\n",
      "Not a 5-letter word\n",
      "What's the next word? creamy\n",
      "Not a 5-letter word\n",
      "What's the next word? treat\n",
      "Repeated word! treat is number 3 in the accepted words list.\n",
      "treat is no longer an accepted word and is banned\n",
      "What's the next word? crime\n",
      "crime accepted!\n",
      "What's the next word? end\n",
      "==========================================================================================\n",
      "Your score is: 3\n",
      "Accepted words (in order of entry): crime great frame\n",
      "Accepted words (in sorted order): crime frame great\n",
      "Banned words (in sorted order): treat\n",
      "Thank you for playing the FLEXIBLE WORD GAME\n"
     ]
    }
   ],
   "source": [
    "def flexible_word_game():\n",
    "    print(\"Welcome to the FLEXIBLE WORD GAME\")\n",
    "    while True:\n",
    "        try:\n",
    "            word_size = int(input(\"Enter the word size (4 to 8): \"))\n",
    "            if 4 <= word_size <= 8:\n",
    "                break\n",
    "            else:\n",
    "                print(\"Number not in correct range. Try again\")\n",
    "        except ValueError:\n",
    "            print(\"That is not a number. Try again\")\n",
    "\n",
    "    accepted_words = set()   #By using a set, we ensure that each word guessed by the player is stored only once, even if it is repeated.\n",
    "                # accepted_words = []  # Use a list to maintain the order for displaying accurate user entered order of the repeated word.\n",
    "    banned_words = set()\n",
    "    max_attempts = 6\n",
    "\n",
    "    print(f\"Give all {word_size}-letter words you know, one word at a time\")\n",
    "    print(\"Enter the word 'end' to exit\")\n",
    "    print(\"==========\"*9)\n",
    "    while max_attempts > 0:\n",
    "        word = input(\"What's the next word? \").lower()\n",
    "        if word == \"end\":\n",
    "            break\n",
    "        if len(word) != word_size:\n",
    "            print(f\"Not a {word_size}-letter word\")\n",
    "            continue\n",
    "        if word in accepted_words:\n",
    "            print(f\"Repeated word! {word} is number {len(accepted_words)} in the accepted words list.\")\n",
    "            # The use of len(accepted_words) does not accurately represent the position of a repeated word. \n",
    "                          # {accepted_words.index(word) + 1} is used for accurate user entered order instead of {len(accepted_words)}.\n",
    "            banned_words.add(word)\n",
    "            accepted_words.discard(word)\n",
    "            print(f\"{word} is no longer an accepted word and is banned\")\n",
    "        else:\n",
    "            accepted_words.add(word)\n",
    "            print(f\"{word} accepted!\")\n",
    "        max_attempts -= 1\n",
    "    print(\"==========\"*9)\n",
    "    print(\"Your score is:\", len(accepted_words))\n",
    "    print(\"Accepted words (in order of entry):\",\" \".join(accepted_words))\n",
    "    print(\"Accepted words (in sorted order):\", \" \".join(sorted(accepted_words)))\n",
    "    print(\"Banned words (in sorted order):\", \" \".join(sorted(banned_words)))\n",
    "    print(\"Thank you for playing the FLEXIBLE WORD GAME\")\n",
    "\n",
    "flexible_word_game()"
   ]
  },
  {
   "cell_type": "code",
   "execution_count": null,
   "id": "2fac01ae",
   "metadata": {},
   "outputs": [],
   "source": []
  }
 ],
 "metadata": {
  "kernelspec": {
   "display_name": "Python 3 (ipykernel)",
   "language": "python",
   "name": "python3"
  },
  "language_info": {
   "codemirror_mode": {
    "name": "ipython",
    "version": 3
   },
   "file_extension": ".py",
   "mimetype": "text/x-python",
   "name": "python",
   "nbconvert_exporter": "python",
   "pygments_lexer": "ipython3",
   "version": "3.11.5"
  }
 },
 "nbformat": 4,
 "nbformat_minor": 5
}

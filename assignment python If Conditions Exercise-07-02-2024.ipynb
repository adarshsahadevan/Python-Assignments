{
 "cells": [
  {
   "cell_type": "markdown",
   "id": "e322a85d",
   "metadata": {},
   "source": [
    "# Python Conditions Exercise\n"
   ]
  },
  {
   "cell_type": "markdown",
   "id": "9f279c2e",
   "metadata": {},
   "source": [
    "### 1. Write a program that takes an integer as input and prints whether it's positive, negative, or zero.\n"
   ]
  },
  {
   "cell_type": "code",
   "execution_count": 4,
   "id": "ee76d865",
   "metadata": {},
   "outputs": [
    {
     "name": "stdout",
     "output_type": "stream",
     "text": [
      "enter a number:-6\n",
      "integer is negative.\n"
     ]
    }
   ],
   "source": [
    "ingt=int(input(\"enter a number:\"))\n",
    "\n",
    "if ingt<0:\n",
    "    print(\"integer is negative.\")\n",
    "\n",
    "elif ingt>0:\n",
    "    print(\"integer is positive:\")\n",
    "\n",
    "else:\n",
    "    print(\"integer is zero.\")"
   ]
  },
  {
   "cell_type": "markdown",
   "id": "4d147546",
   "metadata": {},
   "source": [
    "### 2. Create a program that takes a student's score as input and prints their corresponding grade based on the following scale:\n",
    "\n"
   ]
  },
  {
   "cell_type": "markdown",
   "id": "d64fb632",
   "metadata": {},
   "source": [
    "### 3. 90 or above: A\n",
    "### 4. 80-89: B\n",
    "### 5. 70-79: C\n",
    "### 6. 60-69: D\n",
    "### 7. Below 60: F"
   ]
  },
  {
   "cell_type": "code",
   "execution_count": 2,
   "id": "ffeba585",
   "metadata": {},
   "outputs": [
    {
     "name": "stdout",
     "output_type": "stream",
     "text": [
      "enter your score:72\n",
      "grade is C\n"
     ]
    }
   ],
   "source": [
    "s=int(input(\"enter your score:\"))\n",
    "\n",
    "if s >=90:\n",
    "    print(\"grade is A\")\n",
    "elif s >=80:\n",
    "    print(\"grade is B\")\n",
    "elif s>=70:\n",
    "    print(\"grade is C\")\n",
    "elif s>=60:\n",
    "    print(\"grade is D\")\n",
    "else:\n",
    "    print(\"grade is F\")"
   ]
  },
  {
   "cell_type": "markdown",
   "id": "8da8012d",
   "metadata": {},
   "source": [
    "### 8. Create a program that takes a person's age as input and prints whether they are a child (0-12), teenager (13-19), adult (20-59), or senior (60 and above).\n",
    "\n"
   ]
  },
  {
   "cell_type": "code",
   "execution_count": 4,
   "id": "45614c71",
   "metadata": {},
   "outputs": [
    {
     "name": "stdout",
     "output_type": "stream",
     "text": [
      "enter your age:24\n",
      "You are a adult. \n"
     ]
    }
   ],
   "source": [
    "age=int(input(\"enter your age:\"))\n",
    "\n",
    "if age <=12:\n",
    "    print(\"You are a child. \")\n",
    "elif 13<=age<=19:\n",
    "    print(\"You are a teenager. \")\n",
    "elif  20<=age<=59:\n",
    "    print(\"You are a adult. \") \n",
    "else:\n",
    "    print(\"You are a senior. \")"
   ]
  },
  {
   "cell_type": "markdown",
   "id": "ef9a91a5",
   "metadata": {},
   "source": [
    "### 9. Write a program that takes three integers as input and prints the largest number among them.\n",
    "\n"
   ]
  },
  {
   "cell_type": "code",
   "execution_count": 5,
   "id": "987a2e9e",
   "metadata": {},
   "outputs": [
    {
     "name": "stdout",
     "output_type": "stream",
     "text": [
      "enter a integer:5\n",
      "enter a integer:6\n",
      "enter a integer:2\n",
      "6 is the largest number among all\n"
     ]
    }
   ],
   "source": [
    "enter=int(input(\"enter a integer:\"))\n",
    "enter2=int(input(\"enter a integer:\"))\n",
    "enter3=int(input(\"enter a integer:\"))\n",
    "if enter>enter2>enter3:\n",
    "    print(enter,\"is the largest number among all\")\n",
    "elif enter2>enter>enter3:\n",
    "    print(enter2,\"is the largest number among all\")\n",
    "else:\n",
    "    print(enter3,\"is the largest number among all\")\n",
    "    \n",
    "          "
   ]
  },
  {
   "cell_type": "markdown",
   "id": "f5ff110a",
   "metadata": {},
   "source": [
    "### 10. Create a program that takes three sides of a triangle as input and determines if it's a valid triangle (sum of any two sides is greater than the third). Print \"Valid\" or \"Invalid\" accordingly.\n",
    "\n"
   ]
  },
  {
   "cell_type": "code",
   "execution_count": 12,
   "id": "2d0619ba",
   "metadata": {},
   "outputs": [
    {
     "name": "stdout",
     "output_type": "stream",
     "text": [
      "enter 1st side of a triangle :3\n",
      "enter 2nd side of a triangle :2\n",
      "enter 3rd side of a triangle :4\n",
      "Vaild\n"
     ]
    }
   ],
   "source": [
    "a=int(input(\"enter 1st side of a triangle :\"))\n",
    "b=int(input(\"enter 2nd side of a triangle :\"))\n",
    "c=int(input(\"enter 3rd side of a triangle :\"))\n",
    "if a+b>c:\n",
    "    print(\"Vaild\")\n",
    "elif b+c>a: \n",
    "    print(\"Vaild\")\n",
    "elif c+a>b:\n",
    "    print(\"Vaild\")\n",
    "else:\n",
    "    print(\"Invaild\")"
   ]
  },
  {
   "cell_type": "markdown",
   "id": "2dfa18ff",
   "metadata": {},
   "source": [
    "### 11. Write a program that takes the time in 24-hour format (e.g., 14:30) as input and converts it to 12-hour format (e.g., 2:30 PM) and prints the result.\n",
    "\n"
   ]
  },
  {
   "cell_type": "code",
   "execution_count": 24,
   "id": "14276d7f",
   "metadata": {},
   "outputs": [
    {
     "name": "stdout",
     "output_type": "stream",
     "text": [
      "enter hour:14\n",
      "enter minutes:30\n",
      "14 : 30\n",
      "2 : 30 pm\n"
     ]
    }
   ],
   "source": [
    "time=int(input(\"enter hour:\"))\n",
    "time2=int(input(\"enter minutes:\"))\n",
    "print(time,\":\",time2)\n",
    "if time>=12:\n",
    "    time =time-12\n",
    "    print(time,\":\",time2,\"pm\")\n",
    "else:\n",
    "    print(time,\":\",time2)"
   ]
  },
  {
   "cell_type": "markdown",
   "id": "658c0138",
   "metadata": {},
   "source": [
    "### 12. Write a program that takes a character as input and determines if it's a vowel, consonant, or neither. Print the appropriate message.\n",
    "\n"
   ]
  },
  {
   "cell_type": "code",
   "execution_count": 3,
   "id": "834e0cb9",
   "metadata": {},
   "outputs": [
    {
     "name": "stdout",
     "output_type": "stream",
     "text": [
      "enter a character: A\n",
      "character is vowel\n"
     ]
    }
   ],
   "source": [
    "x=input(\"enter a character: \")\n",
    "\n",
    "vowel=[\"a\",\"e\",\"i\",\"o\",\"u\",\"A\",\"E\",\"I\",\"O\",\"U\"]\n",
    "\n",
    "if x in vowel:\n",
    "    print(\"character is vowel\")\n",
    "else:\n",
    "    print(\"character is consonant\")\n",
    "        "
   ]
  },
  {
   "cell_type": "markdown",
   "id": "13d2f8ec",
   "metadata": {},
   "source": [
    "### 13. Write a Python program to find all pairs of integers in a given array whose sum is equal to a given number."
   ]
  },
  {
   "cell_type": "code",
   "execution_count": 32,
   "id": "1763aec5",
   "metadata": {},
   "outputs": [
    {
     "name": "stdout",
     "output_type": "stream",
     "text": [
      "array: [0, 1, 3, 9, 6, 10]\n",
      "enter a number in the given array: 9\n",
      "pairs of integers whose sum is  9 are\n",
      "0 9\n",
      "3 6\n"
     ]
    }
   ],
   "source": [
    "array=[0,1,3,9,6,10]\n",
    "print(\"array:\",array)\n",
    "\n",
    "n=len(array)\n",
    "sum=int(input(\"enter a number in the given array: \"))\n",
    "\n",
    "print(\"pairs of integers whose sum is \",sum,\"are\")\n",
    "\n",
    "for i in range(0,n):\n",
    "    for j in range(i+1,n):\n",
    "        if(array[i]+array[j]==sum):\n",
    "            print(array[i],array[j])"
   ]
  },
  {
   "cell_type": "markdown",
   "id": "766c13cf",
   "metadata": {},
   "source": [
    "### 14. Write a Python program to find the largest product of any three elements in a given array of integers."
   ]
  },
  {
   "cell_type": "code",
   "execution_count": 1,
   "id": "0ef55dc2",
   "metadata": {},
   "outputs": [
    {
     "name": "stdout",
     "output_type": "stream",
     "text": [
      "[2, 1, 8, 5, -1, -6, 9, 10]\n",
      "largrst product is: 720\n"
     ]
    }
   ],
   "source": [
    "l=[2,1,8,5,-1,-6,9,10]\n",
    "print(l)\n",
    "\n",
    "l.sort()\n",
    "x=l[-1]*l[-2]*l[-3]  # multiplication of last 3 numbers\n",
    "y=l[0]*l[1]*l[-1]    #multiplication of  1st 2 -ve numbers and last number\n",
    "x1=max(x,y)\n",
    "\n",
    "print(\"largrst product is:\",x1)"
   ]
  },
  {
   "cell_type": "code",
   "execution_count": null,
   "id": "995660e1",
   "metadata": {},
   "outputs": [],
   "source": []
  }
 ],
 "metadata": {
  "kernelspec": {
   "display_name": "Python 3 (ipykernel)",
   "language": "python",
   "name": "python3"
  },
  "language_info": {
   "codemirror_mode": {
    "name": "ipython",
    "version": 3
   },
   "file_extension": ".py",
   "mimetype": "text/x-python",
   "name": "python",
   "nbconvert_exporter": "python",
   "pygments_lexer": "ipython3",
   "version": "3.11.5"
  }
 },
 "nbformat": 4,
 "nbformat_minor": 5
}

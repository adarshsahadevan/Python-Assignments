{
 "cells": [
  {
   "cell_type": "markdown",
   "id": "ce1b7f37",
   "metadata": {},
   "source": [
    "# Python OOPS Exercise 1"
   ]
  },
  {
   "cell_type": "markdown",
   "id": "a0d8f6dd",
   "metadata": {},
   "source": [
    "#### 1. Create a class called Rectangle with attributes width and height The class should prevent the width and height attributes from being set to negative values. Add methods to calculate the area and perimeter of the rectangle\n"
   ]
  },
  {
   "cell_type": "code",
   "execution_count": 17,
   "id": "344bba41",
   "metadata": {},
   "outputs": [
    {
     "name": "stdout",
     "output_type": "stream",
     "text": [
      "width : 25 , height : 30\n",
      "Perimeter : 110 , Area : 750\n"
     ]
    }
   ],
   "source": [
    "class Rectangle:\n",
    "    def __init__(self,width,height):\n",
    "        self.width=max(0,width)   #The max() function returns the maximum value between its arguments.If width is negative, max(0, width) ensures that the value stored in self._width is at least 0.\n",
    "        self.height=max(0,height)\n",
    "        \n",
    "    def width(self):\n",
    "        return self.width\n",
    "    def width(self,value):\n",
    "        self.width=max(0,value)\n",
    "    \n",
    "    def height(self):\n",
    "        return self.height\n",
    "    def height(self,value):\n",
    "        self.height=max(0,value)\n",
    "    \n",
    "    def calculate_area(self):\n",
    "        return self.width*self.height\n",
    "        \n",
    "    def calculate_perimeter(self):\n",
    "        return 2*(self.width+self.height)\n",
    "        \n",
    "rooms=Rectangle(width=25,height=30)\n",
    "\n",
    "print(f\"width : {rooms.width} , height : {rooms.height}\")\n",
    "print(f\"Perimeter : {rooms.calculate_perimeter()} , Area : {rooms.calculate_area()}\")"
   ]
  },
  {
   "cell_type": "markdown",
   "id": "fe34d114",
   "metadata": {},
   "source": [
    "#### 2. Create a class called Employee with attributes name, age, position, and salary. Add methods to give the employee a raise, and to print out their information in a formatted way\n"
   ]
  },
  {
   "cell_type": "code",
   "execution_count": 25,
   "id": "3299b715",
   "metadata": {},
   "outputs": [
    {
     "name": "stdout",
     "output_type": "stream",
     "text": [
      "Employee Details: \n",
      "Name: John \n",
      "Age: 28 \n",
      "Position: AI Engineer \n",
      "Salary: Rs.95000\n",
      "New Salary: Rs.105000\n"
     ]
    }
   ],
   "source": [
    "class Employee:\n",
    "    def __init__(self, name, age, position, salary):\n",
    "        self.name = name\n",
    "        self.age = age\n",
    "        self.position = position\n",
    "        self.salary = salary\n",
    "\n",
    "    def raise_(self, amount):\n",
    "        self.salary += amount\n",
    "\n",
    "    def info_(self):\n",
    "        return f\"Employee Details: \\nName: {self.name} \\nAge: {self.age} \\nPosition: {self.position} \\nSalary: Rs.{self.salary}\"\n",
    "\n",
    "employee_ = Employee(name=\"John\", age=28, position=\"AI Engineer\", salary=95000)\n",
    "print(employee_.info_())\n",
    "\n",
    "employee_.raise_(10000)\n",
    "print(f\"New Salary: Rs.{employee_.salary:}\")"
   ]
  },
  {
   "cell_type": "markdown",
   "id": "dbbb7d37",
   "metadata": {},
   "source": [
    "#### 3. Create a class called Fraction with attributes numerator and denominator. Add methods to add, subtract, multiply, and divide two fractions. Also, add a method to simplify the fraction to its lowest terms.\n"
   ]
  },
  {
   "cell_type": "code",
   "execution_count": 31,
   "id": "de6e943f",
   "metadata": {},
   "outputs": [
    {
     "name": "stdout",
     "output_type": "stream",
     "text": [
      "Fraction 1: 3/4\n",
      "Fraction 2: 1/2\n",
      "Sum: 10/8\n",
      "Difference: 2/8\n",
      "Product: 3/8\n",
      "Quotient: 6/4\n",
      "Simplified Fraction 1: 3/4\n"
     ]
    }
   ],
   "source": [
    "class Fraction:\n",
    "    def __init__(self,numerator,denominator):\n",
    "        self.numerator=numerator\n",
    "        self.denominator=denominator\n",
    "    \n",
    "    def add(self,fraction2):\n",
    "        new_numerator=(self.numerator*fraction2.denominator)+(fraction2.numerator*self.denominator)\n",
    "        new_denominator=self.denominator*fraction2.denominator\n",
    "        return Fraction(new_numerator,new_denominator)\n",
    "    \n",
    "    def subtract(self,fraction2):\n",
    "        new_numerator=(self.numerator*fraction2.denominator)-(fraction2.numerator*self.denominator)\n",
    "        new_denominator=self.denominator*fraction2.denominator\n",
    "        return Fraction(new_numerator,new_denominator)\n",
    "    \n",
    "    def multiply(self,fraction2):\n",
    "        new_numerator=self.numerator*fraction2.numerator\n",
    "        new_denominator=self.denominator*fraction2.denominator\n",
    "        return Fraction(new_numerator,new_denominator)\n",
    "    \n",
    "    def divide(self,fraction2):\n",
    "        new_numerator=self.numerator*fraction2.denominator\n",
    "        new_denominator=fraction2.numerator*self.denominator\n",
    "        return Fraction(new_numerator,new_denominator)\n",
    "        \n",
    "    def simplify(self):\n",
    "        def gcd(a,b):\n",
    "            while b:\n",
    "                a,b=b,a%b\n",
    "            return a\n",
    "        common_divisor=gcd(self.numerator,self.denominator)\n",
    "        simplified_numerator=self.numerator//common_divisor\n",
    "        simplified_denominator = self.denominator // common_divisor\n",
    "        return Fraction(simplified_numerator, simplified_denominator)\n",
    "    \n",
    "    def __str__(self):\n",
    "        return f\"{self.numerator}/{self.denominator}\"\n",
    "\n",
    "\n",
    "fraction1 = Fraction(numerator=3, denominator=4)\n",
    "fraction2 = Fraction(numerator=1, denominator=2)\n",
    "\n",
    "print(f\"Fraction 1: {fraction1}\")\n",
    "print(f\"Fraction 2: {fraction2}\")\n",
    "\n",
    "\n",
    "sum_fraction = fraction1.add(fraction2)\n",
    "print(f\"Sum: {sum_fraction}\")\n",
    "\n",
    "difference_fraction = fraction1.subtract(fraction2)\n",
    "print(f\"Difference: {difference_fraction}\")\n",
    "\n",
    "product_fraction = fraction1.multiply(fraction2)\n",
    "print(f\"Product: {product_fraction}\")\n",
    "\n",
    "quotient_fraction = fraction1.divide(fraction2)\n",
    "print(f\"Quotient: {quotient_fraction}\")\n",
    "\n",
    "simplified_fraction = fraction1.simplify()\n",
    "print(f\"Simplified Fraction 1: {simplified_fraction}\")"
   ]
  },
  {
   "cell_type": "markdown",
   "id": "01c00198",
   "metadata": {},
   "source": [
    "#### 4. Create a class called Person with attributes name and age. Add a method to calculate the age difference between two people.\n"
   ]
  },
  {
   "cell_type": "code",
   "execution_count": 1,
   "id": "154fec14",
   "metadata": {},
   "outputs": [
    {
     "name": "stdout",
     "output_type": "stream",
     "text": [
      "John is 11 years older than Rock.\n"
     ]
    }
   ],
   "source": [
    "class Person:\n",
    "    def __init__(self, name, age):\n",
    "        self.name = name\n",
    "        self.age = age\n",
    "\n",
    "    def calculate_age_difference(self, other_person):\n",
    "        return abs(self.age - other_person.age)  #abs() to ensure that a value is non-negative, regardless of its original sign.\n",
    "\n",
    "\n",
    "person1 = Person(\"John\", 35)\n",
    "person2 = Person(\"Rock\", 24)\n",
    "\n",
    "age_difference = person1.calculate_age_difference(person2)\n",
    "print(f\"{person1.name} is {age_difference} years older than {person2.name}.\")"
   ]
  },
  {
   "cell_type": "markdown",
   "id": "f5f8139d",
   "metadata": {},
   "source": [
    "#### 5. Create a class called playlist with a list of songs as an attribute. Add methods to add and remove songs from the playlist, and to shuffle the playlist.\n"
   ]
  },
  {
   "cell_type": "code",
   "execution_count": 11,
   "id": "a6f17778",
   "metadata": {},
   "outputs": [
    {
     "name": "stdout",
     "output_type": "stream",
     "text": [
      "Playlist: My Playlist\n",
      "Song 1 by Artist X\n",
      "Song 2 by Artist Y\n",
      "Song 3 by Artist Z\n",
      "\n",
      "Shuffled playlist:\n",
      "Song 3 by Artist Z\n",
      "Song 1 by Artist X\n",
      "Song 2 by Artist Y\n"
     ]
    }
   ],
   "source": [
    "import random\n",
    "\n",
    "class Playlist:\n",
    "    def __init__(self, names):\n",
    "        self.names = names\n",
    "        self.songs = []  # List to store songs\n",
    "\n",
    "    def add_song(self, song):\n",
    "        self.songs.append(song)\n",
    "\n",
    "    def remove_song(self, song):\n",
    "        if song in self.songs:\n",
    "            self.songs.remove(song)\n",
    "        else:\n",
    "            print(f\"{song} is not in the playlist.\")\n",
    "\n",
    "    def shuffle(self):\n",
    "        random.shuffle(self.songs)\n",
    "\n",
    "# Example usage:\n",
    "class Song:\n",
    "    def __init__(self, title, artist):\n",
    "        self.title = title\n",
    "        self.artist = artist\n",
    "\n",
    "song1=Song(\"Song 1\", \"Artist X\")\n",
    "song2=Song(\"Song 2\", \"Artist Y\")\n",
    "song3=Song(\"Song 3\",\"Artist Z\")\n",
    "\n",
    "my_playlist = Playlist(\"My Playlist\")\n",
    "my_playlist.add_song(song1)\n",
    "my_playlist.add_song(song2)\n",
    "my_playlist.add_song(song3)\n",
    "\n",
    "print(f\"Playlist: {my_playlist.names}\")\n",
    "for song in my_playlist.songs:\n",
    "    print(f\"{song.title} by {song.artist}\")\n",
    "\n",
    "my_playlist.shuffle()\n",
    "print(\"\\nShuffled playlist:\")\n",
    "for song in my_playlist.songs:\n",
    "    print(f\"{song.title} by {song.artist}\")"
   ]
  },
  {
   "cell_type": "markdown",
   "id": "ffccc4fe",
   "metadata": {},
   "source": [
    "#### 6. Create a class called BankAccount with attributes balance and accountanumber: Add methods to transfer money between accounts and to print out the transaction history of the account.\n"
   ]
  },
  {
   "cell_type": "code",
   "execution_count": 25,
   "id": "215b43a3",
   "metadata": {},
   "outputs": [
    {
     "name": "stdout",
     "output_type": "stream",
     "text": [
      "Transaction history for account 65984:\n",
      "Transferred RS.500 to account 78945\n",
      "Transaction history for account 78945:\n",
      "Deposited RS.500\n"
     ]
    }
   ],
   "source": [
    "class BankAccount:\n",
    "    def __init__(self, account_number, initial_balance=0):\n",
    "        self.account_number = account_number\n",
    "        self.balance = initial_balance\n",
    "        self.transaction_history = []  # Initialize transaction history as an empty list\n",
    "\n",
    "    def deposit(self, amount):\n",
    "        self.balance += amount\n",
    "        self.transaction_history.append(f\"Deposited RS.{amount}\")\n",
    "\n",
    "    def withdraw(self, amount):\n",
    "        if self.balance >= amount:\n",
    "            self.balance -= amount\n",
    "            self.transaction_history.append(f\"Withdrew RS.{amount}\")\n",
    "        else:\n",
    "            print(\"Insufficient balance.\")\n",
    "\n",
    "    def transfer(self, other_account, amount):\n",
    "        if self.balance >= amount:\n",
    "            self.balance -= amount\n",
    "            other_account.deposit(amount)\n",
    "            self.transaction_history.append(f\"Transferred RS.{amount} to account {other_account.account_number}\")\n",
    "        else:\n",
    "            print(\"Insufficient balance for transfer.\")\n",
    "\n",
    "    def print_transaction_history(self):\n",
    "        print(f\"Transaction history for account {self.account_number}:\")\n",
    "        for transaction in self.transaction_history:\n",
    "            print(transaction)\n",
    "\n",
    "account1 = BankAccount(\"65984\", 10000)\n",
    "account2 = BankAccount(\"78945\", 20000)\n",
    "\n",
    "account1.transfer(account2, 500)  # Transfer RS.500 from account1 to account2\n",
    "account1.print_transaction_history()\n",
    "account2.print_transaction_history()"
   ]
  },
  {
   "cell_type": "markdown",
   "id": "25e0e7ba",
   "metadata": {},
   "source": [
    "#### 7. Create a class called Deck with a list of cards as an attribute. Add methods to shuffle the deck, draw a card from the deck, and add a card to the deck\n"
   ]
  },
  {
   "cell_type": "code",
   "execution_count": 28,
   "id": "1e44d1d7",
   "metadata": {},
   "outputs": [
    {
     "name": "stdout",
     "output_type": "stream",
     "text": [
      "Drawing 3 cards:\n",
      "7 of Spades\n",
      "9 of Hearts\n",
      "7 of Diamonds\n",
      "\n",
      "Added a Joker to the deck.\n"
     ]
    }
   ],
   "source": [
    "import random\n",
    "\n",
    "class Deck:\n",
    "    def __init__(self):\n",
    "        self.cards = []\n",
    "\n",
    "        suits = ['Hearts', 'Diamonds', 'Clubs', 'Spades']\n",
    "        ranks = ['2', '3', '4', '5', '6', '7', '8', '9', '10', 'Jack', 'Queen', 'King', 'Ace']\n",
    "\n",
    "        for suit in suits:\n",
    "            for rank in ranks:\n",
    "                self.cards.append(f\"{rank} of {suit}\")\n",
    "\n",
    "    def shuffle(self):\n",
    "        random.shuffle(self.cards)\n",
    "\n",
    "    def draw_card(self):\n",
    "        if self.cards:\n",
    "            return self.cards.pop()\n",
    "        else:\n",
    "            return \"No cards left in the deck.\"\n",
    "\n",
    "    def add_card(self, card):\n",
    "        self.cards.append(card)\n",
    "\n",
    "my_deck = Deck()\n",
    "my_deck.shuffle()\n",
    "\n",
    "print(\"Drawing 3 cards:\")\n",
    "for i in range(3):\n",
    "    print(my_deck.draw_card())\n",
    "\n",
    "my_deck.add_card(\"Joker\")\n",
    "print(\"\\nAdded a Joker to the deck.\")"
   ]
  },
  {
   "cell_type": "markdown",
   "id": "5c8dc323",
   "metadata": {},
   "source": [
    "#### 8. Create a class called Animal with the properties name, species, and sound. Create a method called make, sound that prints the sound of the animal\n"
   ]
  },
  {
   "cell_type": "code",
   "execution_count": 29,
   "id": "02657280",
   "metadata": {},
   "outputs": [
    {
     "name": "stdout",
     "output_type": "stream",
     "text": [
      "Buddy (Dog) makes a sound: Woof woof\n",
      "Whiskers (Cat) makes a sound: Meow\n"
     ]
    }
   ],
   "source": [
    "class Animal:\n",
    "    def __init__(self, name, species, sound):\n",
    "        self.name = name\n",
    "        self.species = species\n",
    "        self.sound = sound\n",
    "\n",
    "    def make_sound(self):\n",
    "        print(f\"{self.name} ({self.species}) makes a sound: {self.sound}\")\n",
    "\n",
    "dog = Animal(name=\"Buddy\", species=\"Dog\", sound=\"Woof woof\")\n",
    "cat = Animal(name=\"Whiskers\", species=\"Cat\", sound=\"Meow\")\n",
    "\n",
    "dog.make_sound()\n",
    "cat.make_sound()"
   ]
  },
  {
   "cell_type": "markdown",
   "id": "ab1eb59f",
   "metadata": {},
   "source": [
    "#### 9. Create a subclass of Animal called Dog. The Dog class should have an additional property called breed. Override the make sound method to print \"Woof!\"\n"
   ]
  },
  {
   "cell_type": "code",
   "execution_count": 30,
   "id": "dd41ac64",
   "metadata": {},
   "outputs": [
    {
     "name": "stdout",
     "output_type": "stream",
     "text": [
      "Buddy (Golden Retriever) says: Woof!\n"
     ]
    }
   ],
   "source": [
    "class Animal:\n",
    "    def __init__(self, name, species):\n",
    "        self.name = name\n",
    "        self.species = species\n",
    "\n",
    "    def make_sound(self):\n",
    "        print(f\"{self.name} ({self.species}) makes a generic animal sound.\")\n",
    "\n",
    "class Dog(Animal):\n",
    "    def __init__(self, name, breed):\n",
    "        super().__init__(name, species=\"Dog\")\n",
    "        self.breed = breed\n",
    "\n",
    "    def make_sound(self):\n",
    "        print(f\"{self.name} ({self.breed}) says: Woof!\")\n",
    "\n",
    "my_dog = Dog(name=\"Buddy\", breed=\"Golden Retriever\")\n",
    "my_dog.make_sound()"
   ]
  },
  {
   "cell_type": "markdown",
   "id": "9a365d1d",
   "metadata": {},
   "source": [
    "#### 10. Create another subclass of Animal called Cat. The cat class should have an additional property called color. Override the make sound method to print \"Meow!\"\n"
   ]
  },
  {
   "cell_type": "code",
   "execution_count": 31,
   "id": "f718e272",
   "metadata": {},
   "outputs": [
    {
     "name": "stdout",
     "output_type": "stream",
     "text": [
      "Whiskers (Gray cat) says: Meow!\n"
     ]
    }
   ],
   "source": [
    "class Animal:\n",
    "    def __init__(self, name, species):\n",
    "        self.name = name\n",
    "        self.species = species\n",
    "\n",
    "    def make_sound(self):\n",
    "        print(f\"{self.name} ({self.species}) makes a generic animal sound.\")\n",
    "\n",
    "class Cat(Animal):\n",
    "    def __init__(self, name, color):\n",
    "        super().__init__(name, species=\"Cat\")\n",
    "        self.color = color\n",
    "\n",
    "    def make_sound(self):\n",
    "        print(f\"{self.name} ({self.color} cat) says: Meow!\")\n",
    "\n",
    "my_cat = Cat(name=\"Whiskers\", color=\"Gray\")\n",
    "my_cat.make_sound()"
   ]
  },
  {
   "cell_type": "markdown",
   "id": "6f30ac7c",
   "metadata": {},
   "source": [
    "#### 11. Create a class called zoo with a property animals that is a list of Animal objects. Create a method called add animal that adds an animal to the list. Create a method called uist animals that prints the name and species of each animal in the list.\n"
   ]
  },
  {
   "cell_type": "code",
   "execution_count": 34,
   "id": "247cb5f6",
   "metadata": {},
   "outputs": [
    {
     "name": "stdout",
     "output_type": "stream",
     "text": [
      "List of animals in the zoo:\n",
      "Lambo (Tiger)\n",
      "Arikomban (Elephant)\n",
      "xyz (Monkey)\n"
     ]
    }
   ],
   "source": [
    "class Animal:\n",
    "    def __init__(self, name, species):\n",
    "        self.name = name\n",
    "        self.species = species\n",
    "\n",
    "class Zoo:\n",
    "    def __init__(self):\n",
    "        self.animals = []  \n",
    "\n",
    "    def add_animal(self, animal):\n",
    "        self.animals.append(animal)\n",
    "\n",
    "    def list_animals(self):\n",
    "        for animal in self.animals:\n",
    "            print(f\"{animal.name} ({animal.species})\")\n",
    "\n",
    "Tiger = Animal(name=\"Lambo\", species=\"Tiger\")\n",
    "elephant = Animal(name=\"Arikomban\", species=\"Elephant\")\n",
    "Monkey = Animal(name=\"xyz\",species=\"Monkey\")\n",
    "\n",
    "my_zoo = Zoo()\n",
    "my_zoo.add_animal(Tiger)\n",
    "my_zoo.add_animal(elephant)\n",
    "my_zoo.add_animal(Monkey)\n",
    "\n",
    "print(\"List of animals in the zoo:\")\n",
    "my_zoo.list_animals()"
   ]
  },
  {
   "cell_type": "markdown",
   "id": "c184281f",
   "metadata": {},
   "source": [
    "#### 12. Create an instance of zoo. Add an instance of Dog and an instance of Cat to the zoo. Call the dist animals method to print the information of all the animals in the zoo."
   ]
  },
  {
   "cell_type": "code",
   "execution_count": 35,
   "id": "4ddc334f",
   "metadata": {},
   "outputs": [
    {
     "name": "stdout",
     "output_type": "stream",
     "text": [
      "List of animals in the zoo:\n",
      "Lambo (Dog)\n",
      "Arikomban (Elephant)\n",
      "xyz (cat)\n"
     ]
    }
   ],
   "source": [
    "class Animal:\n",
    "    def __init__(self, name, species):\n",
    "        self.name = name\n",
    "        self.species = species\n",
    "\n",
    "class Zoo:\n",
    "    def __init__(self):\n",
    "        self.animals = []  \n",
    "\n",
    "    def add_animal(self, animal):\n",
    "        self.animals.append(animal)\n",
    "\n",
    "    def list_animals(self):\n",
    "        for animal in self.animals:\n",
    "            print(f\"{animal.name} ({animal.species})\")\n",
    "\n",
    "Dog = Animal(name=\"Lambo\", species=\"Dog\")\n",
    "elephant = Animal(name=\"Arikomban\", species=\"Elephant\")\n",
    "cat = Animal(name=\"xyz\",species=\"cat\")\n",
    "\n",
    "my_zoo = Zoo()\n",
    "my_zoo.add_animal(Dog)\n",
    "my_zoo.add_animal(elephant)\n",
    "my_zoo.add_animal(cat)\n",
    "\n",
    "print(\"List of animals in the zoo:\")\n",
    "my_zoo.list_animals()"
   ]
  },
  {
   "cell_type": "markdown",
   "id": "476de1e2",
   "metadata": {},
   "source": [
    "#### 13. Create a subclass of Dog called Guidepag. The Guidepog class should have an additional property called txained for : Override the make wA sound method to print \"Bark!\"."
   ]
  },
  {
   "cell_type": "code",
   "execution_count": 43,
   "id": "e544db5b",
   "metadata": {},
   "outputs": [
    {
     "name": "stdout",
     "output_type": "stream",
     "text": [
      "Bark!\n"
     ]
    }
   ],
   "source": [
    "class GuideDog(Dog):\n",
    "    def __init__(self, name, breed, trained_for):\n",
    "        self.name=name\n",
    "        self.breed=breed\n",
    "        self.trained_for = trained_for\n",
    "\n",
    "    def make_sound(self):\n",
    "        print(\"Bark!\")\n",
    "\n",
    "guide_dog = GuideDog(name=\"Rover\", breed=\"Golden Retriever\", trained_for=\"assistance\")\n",
    "guide_dog.make_sound() "
   ]
  },
  {
   "cell_type": "code",
   "execution_count": null,
   "id": "52793481",
   "metadata": {},
   "outputs": [],
   "source": []
  }
 ],
 "metadata": {
  "kernelspec": {
   "display_name": "Python 3 (ipykernel)",
   "language": "python",
   "name": "python3"
  },
  "language_info": {
   "codemirror_mode": {
    "name": "ipython",
    "version": 3
   },
   "file_extension": ".py",
   "mimetype": "text/x-python",
   "name": "python",
   "nbconvert_exporter": "python",
   "pygments_lexer": "ipython3",
   "version": "3.11.5"
  }
 },
 "nbformat": 4,
 "nbformat_minor": 5
}

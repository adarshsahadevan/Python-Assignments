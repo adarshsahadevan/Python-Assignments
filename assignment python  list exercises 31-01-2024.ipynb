{
 "cells": [
  {
   "cell_type": "markdown",
   "id": "0c65f4b6",
   "metadata": {},
   "source": [
    "# Python List Exercises"
   ]
  },
  {
   "cell_type": "markdown",
   "id": "a3162e51",
   "metadata": {},
   "source": [
    "### 1) Find the sum of elements in a list."
   ]
  },
  {
   "cell_type": "code",
   "execution_count": 1,
   "id": "da181587",
   "metadata": {},
   "outputs": [
    {
     "name": "stdout",
     "output_type": "stream",
     "text": [
      "49\n"
     ]
    }
   ],
   "source": [
    "x=[5,8,6,6,5,9,10]\n",
    "print(sum(x))"
   ]
  },
  {
   "cell_type": "markdown",
   "id": "4debb999",
   "metadata": {},
   "source": [
    "### 2) Create a list of characters. Write a program to reverse the order of the elements in the list without using built-in functions. Use indexing method."
   ]
  },
  {
   "cell_type": "code",
   "execution_count": 2,
   "id": "4b5be0af",
   "metadata": {},
   "outputs": [
    {
     "name": "stdout",
     "output_type": "stream",
     "text": [
      "['munnar', 'mysore', 'ooty']\n"
     ]
    }
   ],
   "source": [
    "x=[\"ooty\",\"mysore\",\"munnar\"]\n",
    "print(x[::-1])"
   ]
  },
  {
   "cell_type": "markdown",
   "id": "d3823118",
   "metadata": {},
   "source": [
    "### 3) Remove empty strings from the list of strings without using any loops"
   ]
  },
  {
   "cell_type": "code",
   "execution_count": 1,
   "id": "a3f6905b",
   "metadata": {},
   "outputs": [
    {
     "name": "stdout",
     "output_type": "stream",
     "text": [
      "['mike', 'emma', 'kelly', 'brad']\n"
     ]
    }
   ],
   "source": [
    "list1=[\"mike\",\"\",\"emma\",\"kelly\",\"\",\"brad\"]\n",
    "list2=list(filter(None,list1))\n",
    "print(list2)"
   ]
  },
  {
   "cell_type": "markdown",
   "id": "59debe54",
   "metadata": {},
   "source": [
    "### 4) Write a program to add item 7000 after 6000 in the following python  list1=[10,20,[300,400,[5000,6000],500]30,40]"
   ]
  },
  {
   "cell_type": "code",
   "execution_count": 8,
   "id": "f0005750",
   "metadata": {},
   "outputs": [
    {
     "name": "stdout",
     "output_type": "stream",
     "text": [
      "6000\n",
      "[10, 20, [300, 400, [5000, 6000, 7000], 500], 30, 40]\n"
     ]
    }
   ],
   "source": [
    "list1=[10,20,[300,400,[5000,6000],500],30,40]\n",
    "\n",
    "# find the index of 6000\n",
    "x=list1[2][2][1]\n",
    "print(x)\n",
    "\n",
    "list1[2][2].insert(2,7000)\n",
    "print(list1)"
   ]
  },
  {
   "cell_type": "markdown",
   "id": "22715fe3",
   "metadata": {},
   "source": [
    "### 5) Write a program to find value 20 in the list , and if it is present, replace it with 200. only update the first occurrence of an item\n",
    "### list1=[5,10,15,20,25,50,20]\n",
    "### Expected Output:\n",
    "### [5,10,15,200,25,50,20]"
   ]
  },
  {
   "cell_type": "code",
   "execution_count": 13,
   "id": "c71f7244",
   "metadata": {},
   "outputs": [
    {
     "name": "stdout",
     "output_type": "stream",
     "text": [
      "[5, 10, 15, 200, 25, 50, 20]\n"
     ]
    }
   ],
   "source": [
    "list1=[5,10,15,20,25,50,20]\n",
    "x=list1.index(20)\n",
    "list1[x]=200\n",
    "print(list1)"
   ]
  },
  {
   "cell_type": "markdown",
   "id": "66eb963a",
   "metadata": {},
   "source": [
    "### 6) Create a list of numbers.Write a program to find the range(difference b/w the largest and the smallest element)of the list"
   ]
  },
  {
   "cell_type": "code",
   "execution_count": 30,
   "id": "ba9ebcbd",
   "metadata": {
    "scrolled": true
   },
   "outputs": [
    {
     "name": "stdout",
     "output_type": "stream",
     "text": [
      "[46, 681, 897, 9281, 51, 10]\n",
      "the range is:  9271\n"
     ]
    }
   ],
   "source": [
    "list=[46,681,897,9281,51,10]\n",
    "print(list)\n",
    "\n",
    "mxm=(max(list))\n",
    "mnm=(min(list))\n",
    "\n",
    "rang=mxm-mnm\n",
    "print(\"the range is: \",rang)"
   ]
  },
  {
   "cell_type": "markdown",
   "id": "aef81eba",
   "metadata": {},
   "source": [
    "### 7) create a list of random numbers. write a program to count how many times each elment appears in the list."
   ]
  },
  {
   "cell_type": "code",
   "execution_count": 9,
   "id": "3fd10251",
   "metadata": {},
   "outputs": [
    {
     "name": "stdout",
     "output_type": "stream",
     "text": [
      "{10: 1, 50: 1, 22: 2, 42: 3}\n"
     ]
    }
   ],
   "source": [
    "list=[10,50,22,42,42,42,22]\n",
    "counts={}\n",
    "for num in list:\n",
    "    if num in counts:\n",
    "        counts[num] += 1\n",
    "    else:\n",
    "        counts[num] = 1\n",
    "print(counts)"
   ]
  },
  {
   "cell_type": "markdown",
   "id": "f3e420b5",
   "metadata": {},
   "source": [
    "### 8) Create a list of numbers.Write  program to insert a new elements at a specifice position in the list"
   ]
  },
  {
   "cell_type": "code",
   "execution_count": 17,
   "id": "f7637c3e",
   "metadata": {},
   "outputs": [
    {
     "name": "stdout",
     "output_type": "stream",
     "text": [
      "[1, 66, 6, 9, 5, 7]\n",
      "[1, 66, 22, 6, 9, 5, 7]\n"
     ]
    }
   ],
   "source": [
    "my_list=[1,66,6,9,5,7]\n",
    "print(my_list)\n",
    "my_list.insert(2,22)\n",
    "print(my_list)"
   ]
  },
  {
   "cell_type": "code",
   "execution_count": null,
   "id": "ccc61d8f",
   "metadata": {},
   "outputs": [],
   "source": []
  }
 ],
 "metadata": {
  "kernelspec": {
   "display_name": "Python 3 (ipykernel)",
   "language": "python",
   "name": "python3"
  },
  "language_info": {
   "codemirror_mode": {
    "name": "ipython",
    "version": 3
   },
   "file_extension": ".py",
   "mimetype": "text/x-python",
   "name": "python",
   "nbconvert_exporter": "python",
   "pygments_lexer": "ipython3",
   "version": "3.11.5"
  }
 },
 "nbformat": 4,
 "nbformat_minor": 5
}

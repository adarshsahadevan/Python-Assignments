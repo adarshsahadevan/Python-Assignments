{
 "cells": [
  {
   "cell_type": "markdown",
   "id": "da83e00e",
   "metadata": {},
   "source": [
    "# Python RE Exercises"
   ]
  },
  {
   "cell_type": "markdown",
   "id": "62463dfe",
   "metadata": {},
   "source": [
    "#### 1. Write a regular expression that matches any email address (e.g. \"example@gmail.com\")."
   ]
  },
  {
   "cell_type": "code",
   "execution_count": 1,
   "id": "9427c25f",
   "metadata": {},
   "outputs": [
    {
     "name": "stdout",
     "output_type": "stream",
     "text": [
      "match!!\n"
     ]
    }
   ],
   "source": [
    "import re\n",
    "s=\"my mail is example@gmail.com\"\n",
    "if re.search(r\"[\\w.-]+@[\\w\\.-]+\",s):\n",
    "    print(\"match!!\")\n",
    "else:\n",
    "    print(\"Not a match!!\")"
   ]
  },
  {
   "cell_type": "markdown",
   "id": "b5157bdc",
   "metadata": {},
   "source": [
    "#### 2. Write a regular expression that matches any date in the format \"YYYY-MM-DD\" (e.g. \"2023-04-13\")."
   ]
  },
  {
   "cell_type": "code",
   "execution_count": 3,
   "id": "34e29de5",
   "metadata": {},
   "outputs": [
    {
     "name": "stdout",
     "output_type": "stream",
     "text": [
      "A Match!\n"
     ]
    }
   ],
   "source": [
    "import re\n",
    "date=\"2023-04-13\"\n",
    "if re.search(\"^\\d{4}-\\d{2}-\\d{2}$\",date):\n",
    "    print(\"A Match!\")\n",
    "else:\n",
    "    print(\"Not a Match!\")"
   ]
  },
  {
   "cell_type": "markdown",
   "id": "3eb5f856",
   "metadata": {},
   "source": [
    "#### 3. Write a regular expression that matches any sequence of digits that contains at least one odd digit (e.g. \"12345\")."
   ]
  },
  {
   "cell_type": "code",
   "execution_count": 4,
   "id": "e3b02301",
   "metadata": {},
   "outputs": [
    {
     "name": "stdout",
     "output_type": "stream",
     "text": [
      "A Match!!\n"
     ]
    }
   ],
   "source": [
    "import re\n",
    "dig=\"12345\"\n",
    "if re.search(\"[13579]\",dig):\n",
    "    print(\"A Match!!\")\n",
    "else:\n",
    "    print(\"Not a Match!!\")"
   ]
  },
  {
   "cell_type": "markdown",
   "id": "073550ab",
   "metadata": {},
   "source": [
    "#### 4. Write a regular expression that matches any string that contains only letters and spaces (e.g. \"Hello world\")."
   ]
  },
  {
   "cell_type": "code",
   "execution_count": 23,
   "id": "f454c80d",
   "metadata": {},
   "outputs": [
    {
     "name": "stdout",
     "output_type": "stream",
     "text": [
      "A Match!!\n"
     ]
    }
   ],
   "source": [
    "s=\"Hello world\"\n",
    "if re.search(\"^[a-zA-Z\\s]+$\",s):             # + it should match one or more occurrences\n",
    "    print(\"A Match!!\")\n",
    "else:\n",
    "    print(\"Not a Match!!\")"
   ]
  },
  {
   "cell_type": "markdown",
   "id": "9d0ed49c",
   "metadata": {},
   "source": [
    "#### 5. Write a regular expression that matches any string that starts with a vowel and ends with a consonant (e.g. \"apple\", \"banana\", \"cherry\")."
   ]
  },
  {
   "cell_type": "code",
   "execution_count": 20,
   "id": "90444607",
   "metadata": {},
   "outputs": [
    {
     "name": "stdout",
     "output_type": "stream",
     "text": [
      "apple:Not a Match!!\n",
      "banana:Not a Match!!\n",
      "cherry:Not a Match!!\n",
      "ant:A Match!!\n"
     ]
    }
   ],
   "source": [
    "import re\n",
    "eg=\"apple\",\"banana\",\"cherry\",\"ant\"\n",
    "for word in eg:\n",
    "    if re.search(\"^[aeiouAEIOU].*[bcdfghjklmnpqrstvwxyzBCDFGHJKLMNPQRSTVWXYZ]$\",word):\n",
    "        print(f\"{word}:A Match!!\")\n",
    "    else:\n",
    "        print(f\"{word}:Not a Match!!\")"
   ]
  },
  {
   "cell_type": "markdown",
   "id": "f4eb38d3",
   "metadata": {},
   "source": [
    "#### 6. Write a regular expression that matches any string that contains the word \"python\" (case-insensitive) surrounded by exactly two word characters on each side (e.g. \"This is a python string\").\n",
    "\n"
   ]
  },
  {
   "cell_type": "code",
   "execution_count": 24,
   "id": "f3c6227d",
   "metadata": {},
   "outputs": [
    {
     "name": "stdout",
     "output_type": "stream",
     "text": [
      "Not a Match!!\n"
     ]
    }
   ],
   "source": [
    "import re\n",
    "st= \"This is a python string\"\n",
    "if re.search(r\"\\b\\w{2}python\\w{2}\\b\",st,re.IGNORECASE):\n",
    "    print(\"A Match!!\")      # When re.IGNORECASE flag is used, expressions like [A-Z] will match both uppercase and lowercase letters.\n",
    "else:\n",
    "    print(\"Not a Match!!\")"
   ]
  },
  {
   "cell_type": "markdown",
   "id": "59c07b16",
   "metadata": {},
   "source": [
    "#### 7. Write a regular expression that matches any string that contains a sequence of three or more consecutive lowercase letters (e.g. \"hello\", \"goodbye\").\n",
    "\n"
   ]
  },
  {
   "cell_type": "code",
   "execution_count": 34,
   "id": "ce1a7674",
   "metadata": {},
   "outputs": [
    {
     "name": "stdout",
     "output_type": "stream",
     "text": [
      "hello:A Match!!\n",
      "Goodbye:A Match!!\n"
     ]
    }
   ],
   "source": [
    "import re\n",
    "eg=\"hello\",\"Goodbye\"\n",
    "for word in eg:\n",
    "    if re.search(\"[a-z]{3,}\",word):\n",
    "        print(f\"{word}:A Match!!\")\n",
    "    else:\n",
    "        print(f\"{word}:Not a Match!!\")    "
   ]
  },
  {
   "cell_type": "markdown",
   "id": "da2869be",
   "metadata": {},
   "source": [
    "#### 8. Write a regular expression that matches any string that contains a valid IPv4 address (e.g. \"192.168.0.1\").\n",
    "\n"
   ]
  },
  {
   "cell_type": "code",
   "execution_count": 35,
   "id": "ae43ce50",
   "metadata": {},
   "outputs": [
    {
     "name": "stdout",
     "output_type": "stream",
     "text": [
      "match\n"
     ]
    }
   ],
   "source": [
    "import re\n",
    "string=\" vaild address is 192.168.0.1\"\n",
    "ipv4=r\"\\b(?:\\d{1,3}\\.){3}\\d{1,3}\\b\"\n",
    "\n",
    "if re.search(ipv4,string):\n",
    "    print(\"match\")\n",
    "else:\n",
    "    print(\"not match\")"
   ]
  },
  {
   "cell_type": "markdown",
   "id": "4975ee93",
   "metadata": {},
   "source": [
    "#### 9. Write a regular expression to match a valid IPv4 address in dotted decimal notation (e.g. \"192.168.1.1\"). Use re.match() to test your regular expression on the string \"192.168.1.1\". Print the matched string and its starting position.\n",
    "\n"
   ]
  },
  {
   "cell_type": "code",
   "execution_count": 40,
   "id": "7419f7ab",
   "metadata": {},
   "outputs": [
    {
     "name": "stdout",
     "output_type": "stream",
     "text": [
      "matched string:192.168.0.1 , starting position:0\n"
     ]
    }
   ],
   "source": [
    "import re\n",
    "string=\"192.168.0.1\"\n",
    "ipv4=r\"\\b(?:\\d{1,3}\\.){3}\\d{1,3}\\b\"\n",
    "match=re.match(ipv4,string)\n",
    "if match:\n",
    "    matched_string=match.group()\n",
    "    start_position=match.start()\n",
    "    print(f\"matched string:{matched_string} , starting position:{start_position}\")\n",
    "else:\n",
    "    print(\"not match\")"
   ]
  },
  {
   "cell_type": "markdown",
   "id": "fb51933c",
   "metadata": {},
   "source": [
    "#### 10. Write a regular expression to match a valid date in the format \"YYYY-MM-DD\" (e.g. \"2022-04-13\"). Use re.findall() to test your regular expression on the string \"Today's date is 2022-04-13\". Print the list of matched strings.\n",
    "\n"
   ]
  },
  {
   "cell_type": "code",
   "execution_count": 41,
   "id": "2a82b1de",
   "metadata": {},
   "outputs": [
    {
     "name": "stdout",
     "output_type": "stream",
     "text": [
      "Found matches:['2022-04-13']\n"
     ]
    }
   ],
   "source": [
    "import re\n",
    "format1 = r'\\b\\d{4}-\\d{2}-\\d{2}\\b'\n",
    "text = \"Today's date is 2022-04-13.\"\n",
    "matches = re.findall(format1, text)\n",
    "\n",
    "if matches:\n",
    "    print(f\"Found matches:{matches}\")\n",
    "else:\n",
    "    print(\"No valid dates found.\")"
   ]
  },
  {
   "cell_type": "markdown",
   "id": "79d2bbc7",
   "metadata": {},
   "source": [
    "#### 11. Write a regular expression to match a valid email address (e.g. \"john doe@example.com\"). Use re.findall() to test your regular expression on the string \"My email address is john doe@example.com, and I can be reached there anytime.\". Print the list of matched strings.\n",
    "\n"
   ]
  },
  {
   "cell_type": "code",
   "execution_count": 42,
   "id": "b2710c0c",
   "metadata": {},
   "outputs": [
    {
     "name": "stdout",
     "output_type": "stream",
     "text": [
      "Found matches:['doe@example.com']\n"
     ]
    }
   ],
   "source": [
    "import re\n",
    "format2 = r\"[\\w.-]+@[\\w\\.-]+\"\n",
    "text1 = \"My email address is john doe@example.com, and I can be reached there anytime.\"\n",
    "matches = re.findall(format2, text1)\n",
    "\n",
    "if matches:\n",
    "    print(f\"Found matches:{matches}\")\n",
    "else:\n",
    "    print(\"No valid dates found.\")"
   ]
  },
  {
   "cell_type": "markdown",
   "id": "05c41fb7",
   "metadata": {},
   "source": [
    "#### 12. Write a regular expression to match a valid URL in the format \"http://www.example.com\" or \"https://www.example.com\" (with or without the \"s\" in \"https\"). Use re.sub() to replace all occurrences of URLs in the string \"Visit http://www.example.com for more information, or visit https://www.example.com for secure access.\" with the string \"[URL REDACTED]\". Print the modified string.\n",
    "\n"
   ]
  },
  {
   "cell_type": "code",
   "execution_count": 6,
   "id": "65bccef2",
   "metadata": {},
   "outputs": [
    {
     "name": "stdout",
     "output_type": "stream",
     "text": [
      "Visit [URL REDACTED] for more information, or visit [URL REDACTED] for secure access.\n"
     ]
    }
   ],
   "source": [
    "import re\n",
    "\n",
    "format9 = r\"https?://\\S+\"\n",
    "text8 = \"Visit http://www.example.com for more information, or visit https://www.example.com for secure access.\"\n",
    "modified = re.sub(format9,\"[URL REDACTED]\", text8)\n",
    "\n",
    "print(modified)"
   ]
  },
  {
   "cell_type": "markdown",
   "id": "e3799271",
   "metadata": {},
   "source": [
    "#### 13. Write a regular expression to match a sequence of one or more digits, optionally followed by a decimal point and one or more digits (e.g. \"123\",\"3.14\"). Use re.finditer() to iterate over all numbers in the string \"The value of pi is approximately 3.14, and e is approximately 2.71828.\". Print the matched string and its starting and ending positions for each number. \n",
    "\n"
   ]
  },
  {
   "cell_type": "code",
   "execution_count": 11,
   "id": "a0d0e47c",
   "metadata": {},
   "outputs": [
    {
     "name": "stdout",
     "output_type": "stream",
     "text": [
      "matched string:3.14 (start:33, End:37)\n",
      "matched string:2.71828 (start:62, End:69)\n"
     ]
    }
   ],
   "source": [
    "import re\n",
    "string=\"The value of pi is approximately 3.14, and e is approximately 2.71828.\"\n",
    "pttn=r\"\\d+(\\.\\d+)?\"\n",
    "matches=list(re.finditer(pttn,string))\n",
    "for match in matches:\n",
    "    start_position=match.start()\n",
    "    end_position=match.end()\n",
    "    matched_number=match.group()\n",
    "    print(f\"matched string:{matched_number} (start:{start_position}, End:{end_position})\")"
   ]
  },
  {
   "cell_type": "markdown",
   "id": "430d5c88",
   "metadata": {},
   "source": [
    "#### 14. Write a regular expression to match a valid credit card number in the format \"XXXX-XXXX-XXXX-XXXX\", where X is a digit. Use re.findall() to test your regular expression on the string \"My credit card number is 1234-5678-9012-3456.\". Print the list of matched strings.\n"
   ]
  },
  {
   "cell_type": "code",
   "execution_count": 43,
   "id": "77c3afa1",
   "metadata": {},
   "outputs": [
    {
     "name": "stdout",
     "output_type": "stream",
     "text": [
      "Found matches:['1234-5678-9012-3456']\n"
     ]
    }
   ],
   "source": [
    "import re\n",
    "format3 = r'\\b\\d{4}-\\d{4}-\\d{4}-\\d{4}\\b'\n",
    "text2 = \"My credit card number is 1234-5678-9012-3456.\"\n",
    "matches = re.findall(format3, text2)\n",
    "\n",
    "if matches:\n",
    "    print(f\"Found matches:{matches}\")\n",
    "else:\n",
    "    print(\"No valid dates found.\")"
   ]
  },
  {
   "cell_type": "markdown",
   "id": "419f1aa0",
   "metadata": {},
   "source": [
    "#### 15. Write a regular expression to match a valid phone number in the format \"(XXX) XXX-XXXX\", where X is a digit. Use re.sub() to replace all occurrences of phone numbers in the string \"Please call (555) 123-4567 for assistance.\" with the string \"[PHONE REDACTED]\". Print the modified string. \n",
    "\n"
   ]
  },
  {
   "cell_type": "code",
   "execution_count": 21,
   "id": "7cfccd3e",
   "metadata": {},
   "outputs": [
    {
     "name": "stdout",
     "output_type": "stream",
     "text": [
      "Please call [PHONE REDACTED] for assistance.\n"
     ]
    }
   ],
   "source": [
    "import re\n",
    "\n",
    "format4 = r'\\(\\d{3}\\) \\d{3}-\\d{4}'\n",
    "text3 = \"Please call (555) 123-4567 for assistance.\"\n",
    "modified = re.sub(format4,\"[PHONE REDACTED]\", text3)\n",
    "\n",
    "print(modified)"
   ]
  },
  {
   "cell_type": "markdown",
   "id": "11e2af08",
   "metadata": {},
   "source": [
    "#### 16. Write a regular expression to match a valid time in the format \"HH:MM:SS\", where HH is the hour (00-23), MM is the minute (00-59), and SS is the second (00-59). Use re.match() to test your regular expression on the string \"The  current time is 16:35:42.\". Print the matched string and its starting position. \n",
    "        \n"
   ]
  },
  {
   "cell_type": "code",
   "execution_count": 22,
   "id": "3d56659f",
   "metadata": {},
   "outputs": [
    {
     "name": "stdout",
     "output_type": "stream",
     "text": [
      "matched string:16:35:42 , starting position:20\n"
     ]
    }
   ],
   "source": [
    "import re\n",
    "string=\"The current time is 16:35:42.\"\n",
    "format5= r'\\b(?:[01]\\d|2[0-3]):[0-5]\\d:[0-5]\\d\\b'\n",
    "match=re.search(format5,string)\n",
    "if match:\n",
    "    matched_string=match.group()\n",
    "    start_position=match.start()\n",
    "    print(f\"matched string:{matched_string} , starting position:{start_position}\")\n",
    "else:\n",
    "    print(\"not match\")"
   ]
  },
  {
   "cell_type": "markdown",
   "id": "473c9056",
   "metadata": {},
   "source": [
    "#### 17. Write a regular expression to match a valid email address, but exclude addresses from a certain domain (e.g. exclude all addresses ending in \"@example.com\"). Use re.findall() to test your regular expression on the string \"My email is john doe@example.com, but my colleague's email is jane smith@mycompany.com.\". Print the list of matched strings."
   ]
  },
  {
   "cell_type": "code",
   "execution_count": 23,
   "id": "ef5fb914",
   "metadata": {},
   "outputs": [
    {
     "name": "stdout",
     "output_type": "stream",
     "text": [
      "Found matches:['smith@mycompany.com.']\n"
     ]
    }
   ],
   "source": [
    "import re\n",
    "format6 = r\"[\\w.-]+@(?!example\\.com)[\\w\\.-]+\"\n",
    "text5 = \"My email is john doe@example.com, but my colleague's email is jane smith@mycompany.com.\"\n",
    "matches = re.findall(format6, text5)\n",
    "\n",
    "if matches:\n",
    "    print(f\"Found matches:{matches}\")\n",
    "else:\n",
    "    print(\"No valid dates found.\")"
   ]
  },
  {
   "cell_type": "markdown",
   "id": "f3154ffa",
   "metadata": {},
   "source": [
    "#### 18. Write a regular expression to match a valid URL, but exclude URLs from a certain domain (e.g. exclude all URLs containing \"example.com\"). Use re.sub() to replace all occurrences of URLs in the string \"Visit http://www.example.com for more information, or visit http://www.mycompany.com for secure access.\" with the string \"[URL REDACTED]\". Print the modified string.\n"
   ]
  },
  {
   "cell_type": "code",
   "execution_count": 31,
   "id": "31540704",
   "metadata": {},
   "outputs": [
    {
     "name": "stdout",
     "output_type": "stream",
     "text": [
      "Visit http://www.example.com for more information, or visit [URL REDACTED] for secure access.\n"
     ]
    }
   ],
   "source": [
    "import re\n",
    "\n",
    "format8 = r\"https?://(?!.*example\\.com)\\S+\"\n",
    "text7 = \"Visit http://www.example.com for more information, or visit http://www.mycompany.com for secure access.\"\n",
    "modified = re.sub(format8,\"[URL REDACTED]\", text7)\n",
    "\n",
    "print(modified)"
   ]
  },
  {
   "cell_type": "code",
   "execution_count": null,
   "id": "58cbdf32",
   "metadata": {},
   "outputs": [],
   "source": []
  }
 ],
 "metadata": {
  "kernelspec": {
   "display_name": "Python 3 (ipykernel)",
   "language": "python",
   "name": "python3"
  },
  "language_info": {
   "codemirror_mode": {
    "name": "ipython",
    "version": 3
   },
   "file_extension": ".py",
   "mimetype": "text/x-python",
   "name": "python",
   "nbconvert_exporter": "python",
   "pygments_lexer": "ipython3",
   "version": "3.11.5"
  }
 },
 "nbformat": 4,
 "nbformat_minor": 5
}

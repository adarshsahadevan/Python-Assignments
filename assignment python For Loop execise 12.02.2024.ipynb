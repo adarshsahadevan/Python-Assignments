{
 "cells": [
  {
   "cell_type": "markdown",
   "id": "be8552b3",
   "metadata": {},
   "source": [
    "# Python For Loop Execise"
   ]
  },
  {
   "cell_type": "markdown",
   "id": "6724eb9b",
   "metadata": {},
   "source": [
    "### 1. Write a Python program to find all pairs of integers in a given array whose sum is equal to a given number."
   ]
  },
  {
   "cell_type": "code",
   "execution_count": 2,
   "id": "09e4d4c9",
   "metadata": {},
   "outputs": [
    {
     "name": "stdout",
     "output_type": "stream",
     "text": [
      "array: [2, 6, 3, 8, 5]\n",
      "Enter a number from array:8\n",
      "pairs of integers in given array whose sum is equal to a given number are:\n",
      "2 6\n",
      "3 5\n"
     ]
    }
   ],
   "source": [
    "array=[2,6,3,8,5]\n",
    "print(\"array:\",array)\n",
    "\n",
    "n=len(array)\n",
    "sum=int(input(\"Enter a number from array:\"))\n",
    "\n",
    "print(\"pairs of integers in given array whose sum is equal to a given number are:\")\n",
    "for i in range (0,n):\n",
    "    for j in range (i+1,n):\n",
    "        if (array[i]+array[j]==sum):\n",
    "            print(array[i],array[j])"
   ]
  },
  {
   "cell_type": "markdown",
   "id": "637f2fb9",
   "metadata": {},
   "source": [
    "### 2. Write a Python program to find the median of a given unsorted list of integers."
   ]
  },
  {
   "cell_type": "code",
   "execution_count": 12,
   "id": "f71ecd4f",
   "metadata": {},
   "outputs": [
    {
     "name": "stdout",
     "output_type": "stream",
     "text": [
      "unsorted list of integers:  [5, 9, 58, 36, 4, 2]\n",
      "sorted list of integers: [2, 4, 5, 9, 36, 58]\n",
      "median od given list is:  7.0\n"
     ]
    }
   ],
   "source": [
    "lis=[5,9,58,36,4,2]\n",
    "print(\"unsorted list of integers: \",lis)\n",
    "\n",
    "lis.sort()\n",
    "print(\"sorted list of integers:\",lis)\n",
    "\n",
    "n=len(lis)\n",
    "mid=n//2  # [3]\n",
    "\n",
    "if n % 2==0:\n",
    "    median=(lis[mid-1]+lis[mid])/2  #[2]-[3]\n",
    "else:\n",
    "    median=lis[mid]\n",
    "\n",
    "print(\"median od given list is: \",median)    "
   ]
  },
  {
   "cell_type": "markdown",
   "id": "ccab1364",
   "metadata": {},
   "source": [
    "### 3. Write a Python program to find the longest increasing subsequence in a given array of integers."
   ]
  },
  {
   "cell_type": "code",
   "execution_count": 23,
   "id": "e454d76f",
   "metadata": {},
   "outputs": [
    {
     "name": "stdout",
     "output_type": "stream",
     "text": [
      "Length of LIS is: 5\n"
     ]
    }
   ],
   "source": [
    "arr=[6,5,8,81,14,19,65]\n",
    "n=len(arr)\n",
    "d=[1]*n\n",
    "\n",
    "for i in range(1,n):\n",
    "    for j in range(i):\n",
    "        if arr[i]>arr[j]:\n",
    "            d[i]=max(d[i],d[j]+1)\n",
    "print(\"Length of LIS is:\",max(d))            "
   ]
  },
  {
   "cell_type": "markdown",
   "id": "833be003",
   "metadata": {},
   "source": [
    "###  4. Write a Python program to find the kth smallest element in a given unsorted array."
   ]
  },
  {
   "cell_type": "code",
   "execution_count": 31,
   "id": "5916a023",
   "metadata": {},
   "outputs": [
    {
     "name": "stdout",
     "output_type": "stream",
     "text": [
      "array:  [1, 5, 6, 3, 5, 6, 9]\n",
      "Enter the value of k: 2\n",
      "kth smallest element is:  3\n"
     ]
    }
   ],
   "source": [
    "arr=[1,5,6,3,5,6,9]\n",
    "print(\"array: \",arr)\n",
    "k= int(input(\"Enter the value of k: \"))\n",
    "arr.sort()\n",
    "print(\"kth smallest element is: \",arr[k-1])"
   ]
  },
  {
   "cell_type": "markdown",
   "id": "2bb86632",
   "metadata": {},
   "source": [
    "### 5. Write a Python program to sort a given list of integers using the bubble sort algorithm."
   ]
  },
  {
   "cell_type": "code",
   "execution_count": 34,
   "id": "97464373",
   "metadata": {},
   "outputs": [
    {
     "name": "stdout",
     "output_type": "stream",
     "text": [
      "original list is:  [5, 3, 8, 6, 7, 2]\n",
      "bubble sorted list is:  [2, 3, 5, 6, 7, 8]\n"
     ]
    }
   ],
   "source": [
    "#bubble sort means compare 1st and 2nd element to see small, then compare 2nd and 3rd ,and so on.\n",
    "list1=[5,3,8,6,7,2]\n",
    "print(\"original list is: \",list1)\n",
    "\n",
    "for i in range(0,len(list1)-1):  # len(list1)-1 due to there will be no element to compare if take len(list1)\n",
    "    for j in range(len(list1)-1):\n",
    "        if (list1[j]>list1[j+1]):\n",
    "            temp=list1[j]  # replacing 1st element with 2nd since 1st>2nd.\n",
    "            list1[j]=list1[j+1]\n",
    "            list1[j+1]=temp\n",
    "print(\"bubble sorted list is: \",list1)            "
   ]
  },
  {
   "cell_type": "markdown",
   "id": "e61ebb22",
   "metadata": {},
   "source": [
    "### 6. Write a Python program to implement a binary search algorithm to search for a given element in a sorted array."
   ]
  },
  {
   "cell_type": "code",
   "execution_count": 1,
   "id": "9c9d17a4",
   "metadata": {},
   "outputs": [
    {
     "name": "stdout",
     "output_type": "stream",
     "text": [
      "enter the list length:5\n",
      "enter list elements ; 6\n",
      "enter list elements ; 8\n",
      "enter list elements ; 58\n",
      "enter list elements ; 3\n",
      "enter list elements ; 5\n",
      "sorted array is : [3, 5, 6, 8, 58]\n",
      "enter a element to search :58\n",
      "key is found \n"
     ]
    }
   ],
   "source": [
    "num=int(input(\"enter the list length:\"))\n",
    "arr=[int(input(\"enter list elements ; \")) for i in range(num)]\n",
    "arr.sort()\n",
    "print(\"sorted array is :\",arr)\n",
    "\n",
    "k=int(input(\"enter a element to search :\"))\n",
    "\n",
    "low=0\n",
    "high=len(arr)-1  # because eg, if there are 5 element the index of last element is 4.\n",
    "found=False # initiate found is False\n",
    "\n",
    "# loop\n",
    "\n",
    "while low<=high and not found:  # not found means opposite of found that is True.\n",
    "    mid=(low+high)//2\n",
    "    if k == arr[mid]:\n",
    "        found=True\n",
    "    elif k>arr[mid]:\n",
    "        low=mid+1\n",
    "    else:\n",
    "        high=mid-1\n",
    "if found==True:\n",
    "    print(\"key is found \")\n",
    "else:\n",
    "    print(\"key is not found \")"
   ]
  },
  {
   "cell_type": "markdown",
   "id": "e03fd07b",
   "metadata": {},
   "source": [
    "### 7. Write a Python program to find the largest product of any three elements in a given array of integers."
   ]
  },
  {
   "cell_type": "code",
   "execution_count": 4,
   "id": "30e59268",
   "metadata": {},
   "outputs": [
    {
     "name": "stdout",
     "output_type": "stream",
     "text": [
      "array is : [5, 6, 9, 8, -8, -5, -1, -2, -56, -78]\n",
      "largest product of three elements is:  39312\n"
     ]
    }
   ],
   "source": [
    "arr=[5,6,9,8,-8,-5,-1,-2,-56,-78]\n",
    "print(\"array is :\",arr)\n",
    "arr.sort()\n",
    "\n",
    "prod1=arr[-1]*arr[-2]*arr[-3] # multiplication of last 3 numbers\n",
    "prod2=arr[0]*arr[1]*arr[-1]  #multiplication of  1st 2 -ve numbers and last number\n",
    "lar=max(prod1,prod2)\n",
    "\n",
    "print(\"largest product of three elements is: \",lar)"
   ]
  },
  {
   "cell_type": "markdown",
   "id": "74ccd58f",
   "metadata": {},
   "source": [
    "### 8. Write a Python program to find the largest sum of any contiguous subarray in a given array of integers."
   ]
  },
  {
   "cell_type": "code",
   "execution_count": 13,
   "id": "539950e0",
   "metadata": {},
   "outputs": [
    {
     "name": "stdout",
     "output_type": "stream",
     "text": [
      "array is:  [5, 8, -2, 6, -9, 10]\n",
      "largest sum : 18\n"
     ]
    }
   ],
   "source": [
    "arr=[5,8,-2,6,-9,10]\n",
    "print(\"array is: \",arr)\n",
    "\n",
    "max_sum=0\n",
    "temp=0\n",
    "n=len(arr)\n",
    "\n",
    "for i in range(len(arr)):\n",
    "    max_sum=max_sum+ arr[i]\n",
    "    if(max_sum<0):\n",
    "        max_sum=0\n",
    "    elif (max_sum<temp):\n",
    "        max_sum=temp\n",
    "print(\"largest sum :\" ,max_sum)    "
   ]
  },
  {
   "cell_type": "markdown",
   "id": "81f2ae7d",
   "metadata": {},
   "source": [
    "### 9. Write a Python program to find the common elements between two given arrays of integers."
   ]
  },
  {
   "cell_type": "code",
   "execution_count": 16,
   "id": "8eb96aa6",
   "metadata": {},
   "outputs": [
    {
     "name": "stdout",
     "output_type": "stream",
     "text": [
      "array 1:  [9, 5, 8, 6, 4, 7, 2, 1, 3]\n",
      "array 2:  [6, 5, 9, 2, 4, 10]\n",
      "common elements:  [9, 5, 6, 4, 2]\n"
     ]
    }
   ],
   "source": [
    "arr=[9,5,8,6,4,7,2,1,3]\n",
    "arr1=[6,5,9,2,4,10]\n",
    "print(\"array 1: \",arr)\n",
    "print(\"array 2: \",arr1)\n",
    "common_elements=[]\n",
    "for num in arr:\n",
    "    for num1 in arr1:\n",
    "        if num==num1:\n",
    "            common_elements.append(num1)\n",
    "            break    # no need to check futher for this element.\n",
    "print(\"common elements: \",common_elements)            \n"
   ]
  },
  {
   "cell_type": "markdown",
   "id": "a7e26b92",
   "metadata": {},
   "source": [
    "### 10. Write a Python program to find the longest palindrome substring in a given string."
   ]
  },
  {
   "cell_type": "code",
   "execution_count": 10,
   "id": "052501ce",
   "metadata": {},
   "outputs": [
    {
     "name": "stdout",
     "output_type": "stream",
     "text": [
      "bab\n"
     ]
    }
   ],
   "source": [
    "def longpal(str):\n",
    "    def check(l,r):\n",
    "        while l>=0 and r<len(str) and str[l]==str[r]:\n",
    "            l-=1\n",
    "            r+=1\n",
    "        return str[l+1:r]\n",
    "    \n",
    "    res=\"\"\n",
    "    for i in range(len(str)):\n",
    "        temp=check(i,i)\n",
    "        if len(temp)>len(res):\n",
    "            res=temp\n",
    "        temp=check(i,i+1)\n",
    "    return res\n",
    "str=\"babad\"\n",
    "print(longpal(str))"
   ]
  },
  {
   "cell_type": "code",
   "execution_count": null,
   "id": "a90ac184",
   "metadata": {},
   "outputs": [],
   "source": []
  }
 ],
 "metadata": {
  "kernelspec": {
   "display_name": "Python 3 (ipykernel)",
   "language": "python",
   "name": "python3"
  },
  "language_info": {
   "codemirror_mode": {
    "name": "ipython",
    "version": 3
   },
   "file_extension": ".py",
   "mimetype": "text/x-python",
   "name": "python",
   "nbconvert_exporter": "python",
   "pygments_lexer": "ipython3",
   "version": "3.11.5"
  }
 },
 "nbformat": 4,
 "nbformat_minor": 5
}
